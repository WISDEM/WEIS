{
 "cells": [
  {
   "cell_type": "code",
   "execution_count": 1,
   "id": "666e4b62-35d5-4b53-8235-afba05d8e3a6",
   "metadata": {},
   "outputs": [],
   "source": [
    "# imports\n",
    "\n",
    "import numpy as np\n",
    "import os\n",
    "import yaml, sys\n",
    "try:\n",
    "    import ruamel_yaml as ry\n",
    "except Exception:\n",
    "    try:\n",
    "        import ruamel.yaml as ry\n",
    "    except Exception:\n",
    "        raise ImportError('No module named ruamel.yaml or ruamel_yaml')\n",
    "        \n",
    "\n",
    "import warnings\n",
    "\n",
    "from wisdem.inputs.validation import load_yaml, write_yaml, remove_numpy\n",
    "\n",
    "# warnings.simplefilter('ignore', ry.yaml.error.MantissaNoDotYAML1_1Warning)\n"
   ]
  },
  {
   "cell_type": "code",
   "execution_count": 57,
   "id": "835e05b0-6752-42e8-9a61-8e0801f25766",
   "metadata": {},
   "outputs": [],
   "source": [
    "# Helper functions\n",
    "def get_line_type(orca_yaml,type_search):\n",
    "    for line_type in orca_yaml['LineTypes']:\n",
    "        if line_type['Name'] == type_search:\n",
    "            break\n",
    "    return line_type\n",
    "\n",
    "def get_variable_info(orca_yaml,variable_type, variable_name):\n",
    "    for var in orca_yaml['VariableData'][variable_type]:\n",
    "        if var['Name'] == variable_name:\n",
    "            break\n",
    "    return var['IndependentValue, DependentValue']\n",
    "\n",
    "\n",
    "def search_type(orca_yaml,type_search,name_search):\n",
    "    for instance in orca_yaml[type_search]:\n",
    "        if instance['Name'] == name_search:\n",
    "            break\n",
    "    return instance\n",
    "\n",
    "def print_yaml(data_struct):\n",
    "    data_struct = remove_numpy(data_struct)\n",
    "    yaml=ry.YAML()\n",
    "    yaml.indent(mapping=4, sequence=6, offset=3)\n",
    "    yaml.dump(data_struct,sys.stdout)\n"
   ]
  },
  {
   "cell_type": "code",
   "execution_count": 19,
   "id": "7300f744-b35e-4120-9dcb-efba26ea6af7",
   "metadata": {},
   "outputs": [],
   "source": [
    "\n",
    "orca_input = '/Users/dzalkind/Downloads/K03 15MW semi-sub FOWT.yml'\n",
    "orca_yaml = load_yaml(orca_input)\n"
   ]
  },
  {
   "cell_type": "markdown",
   "id": "5e16a198-7cee-491a-80ce-eab2309d4d2f",
   "metadata": {},
   "source": [
    "# Tower"
   ]
  },
  {
   "cell_type": "code",
   "execution_count": 4,
   "id": "09830c4c-838d-4946-a49b-c136e9a4cadf",
   "metadata": {},
   "outputs": [],
   "source": [
    "platform_name = 'VolturnUS-S'\n",
    "\n",
    "weis_tower = {}\n",
    "weis_tower['outer_shape_bem'] = {}\n",
    "weis_tower['internal_structure_2d_fem'] = {}\n",
    "\n",
    "\n",
    "\n",
    "# Tower line objet\n",
    "is_tower_line = [(line['Name'] == 'Tower') for line in orca_yaml['Lines']]\n",
    "if not any(is_tower_line):\n",
    "    raise Exception('No OrcaFlex Line objects are named \"Tower\".  This is required for WindIO tower information.')\n",
    "\n",
    "tower_line = orca_yaml['Lines'][np.where(is_tower_line)[0][0]]\n",
    "\n",
    "# Platform connection\n",
    "connections = tower_line['Connection, ConnectionX, ConnectionY, ConnectionZ, ConnectionAzimuth, ConnectionDeclination, ConnectionGamma, ConnectionReleaseStage, ConnectionzRelativeTo']\n",
    "# TODO: will we need to parse these multiple entries better?\n",
    "\n",
    "is_platform_connection = [(con[0] == platform_name) for con in connections]\n",
    "platform_connection = connections[np.where(is_platform_connection)[0][0]]\n",
    "platform_connection_xyz = platform_connection[1:4]   # TODO: parse better later?\n",
    "platform_connection_xyz\n",
    "\n",
    "# sections = []  # Supporting only 1 section for now\n",
    "\n",
    "tower_line_types = tower_line['LineType, Length, TargetSegmentLength']  # These are sections in orcaflex.  Not sure how we'll handle multiple. Save that for later\n",
    "previous_section_height = platform_connection_xyz[2]\n",
    "\n",
    "section = {}\n",
    "section['type'] = tower_line_types[0][0]\n",
    "section['length'] = tower_line_types[0][1]\n",
    "type_info = get_line_type(orca_yaml,section['type'])\n",
    "\n",
    "\n",
    "outer_diameter = np.array(get_variable_info(orca_yaml,'Linetypediameter','Tower OD'))  # top is 0\n",
    "inner_diameter = np.array(get_variable_info(orca_yaml,'Linetypediameter','Tower ID'))  # top is 0\n",
    "\n",
    "\n",
    "\n",
    "# It's an open question about what should be the ref axis.  Since we're sharing a reference with the inner and outer diameter, we'll use that as the reference axis for now.\n",
    "# Alternative: section['z'] = np.arange(previous_section_height,line_type[1],line_type[2])\n",
    "# Usign the inner/outer diameter variable info matches with the Also it matches with the IEA-15 WindIO input\n",
    "# If we get different values from partners, we will want to map/interpolate to a different axis\n",
    "ref_axis = {}\n",
    "ref_axis['x'] = {}\n",
    "ref_axis['y'] = {}\n",
    "ref_axis['z'] = {}\n",
    "\n",
    "ref_axis['z']['values'] = np.flip(outer_diameter[:,0][-1] - outer_diameter[:,0]) + platform_connection_xyz[2]  # 0 is top of tower, 129 is bottom\n",
    "ref_axis['z']['grid'] = (ref_axis['z']['values'] - ref_axis['z']['values'][0]) / (ref_axis['z']['values'][-1] - ref_axis['z']['values'][0])\n",
    "\n",
    "# X and Y follow for now\n",
    "ref_axis['x']['grid'] = ref_axis['y']['grid'] = ref_axis['z']['grid']\n",
    "ref_axis['x']['values'] = ref_axis['y']['values'] = np.zeros(len(ref_axis['z']['grid']))\n",
    "weis_tower['outer_shape_bem']['reference_axis'] = ref_axis\n",
    "\n",
    "\n",
    "weis_tower['outer_shape_bem']['outer_diameter'] = {}\n",
    "weis_tower['outer_shape_bem']['outer_diameter']['grid'] = ref_axis['z']['grid']  # Shared for now, doesn't necessarily have to\n",
    "weis_tower['outer_shape_bem']['outer_diameter']['values'] = np.flip(outer_diameter[:,1])  # It's not super clear what indicator OrcaFlex uses to flip these coordinates, but they definitely are flipped\n",
    "\n",
    "# drag coefficient\n",
    "weis_tower['outer_shape_bem']['drag_coefficient'] = {}\n",
    "weis_tower['outer_shape_bem']['drag_coefficient']['grid'] = [0,1]\n",
    "weis_tower['outer_shape_bem']['drag_coefficient']['values'] = 2*[type_info['Cdn'] / 2] # TODO: double check this one\n",
    "\n",
    "# Internal structure\n",
    "weis_tower['internal_structure_2d_fem']['reference_axis'] = ref_axis\n",
    "weis_tower['internal_structure_2d_fem']['outfitting_factor'] = 1.0 # OrcaFlex is combining outfitting_factor into density\n",
    "tower_layer = {}\n",
    "weis_tower['internal_structure_2d_fem']['layers'] = [tower_layer]\n",
    "\n",
    "tower_layer['name'] = 'tower_wall'\n",
    "tower_layer['material'] = 'tower_material'   # TODO: fill this in from available OrcaFlex info\n",
    "tower_layer['thickness'] = {}\n",
    "tower_layer['thickness']['grid'] = ref_axis['z']['grid']\n",
    "\n",
    "\n",
    "diameter_diff = (outer_diameter - inner_diameter)  #[:,1]\n",
    "thickness = np.flip(diameter_diff[:,1] / 2)\n",
    "\n",
    "tower_layer['thickness']['values'] = thickness\n",
    "\n",
    "tower_material = {\n",
    "  'name': 'tower_material'  ,\n",
    "  'description': f'Information pulled from OrcaFlex input {orca_input}' , \n",
    "  'source': f'Information pulled from OrcaFlex input {orca_input}'   ,\n",
    "  'orth': 0, # Isotropic material \n",
    "  'rho': type_info['MaterialDensity'] * 1000,  # includes outfitting_factor in WindIO, OrcaFlex in g/cm^3\n",
    "  'alpha': 0  , # None in OrcaFlex\n",
    "  'E': type_info['E'] * 1000  , # Different units, confirm\n",
    "  'nu': type_info['PoissonRatio']  ,  # this is different between OrcaFlex and WindIO\n",
    "  'G': 79.3e+009  , # Can't find in OrcaFlex\n",
    "  'GIc': 0  ,  # Not used in WindIO, according to comment\n",
    "  'GIIc': 0  ,  # Not used in WindIO, according to comment\n",
    "  'alp0': 0  ,  # Not used in WindIO, according to comment\n",
    "  'Xt': 450.e+006  , # Ultimate tensile strength (Pa), not in OrcaFlex model\n",
    "  'Xc': 450.e+006  ,  # Ultimate compressive strength (Pa), not in OrcaFlex model\n",
    "  'S': 0  ,  # Ultimate shear strength (Pa), not in OrcaFlex model\n",
    "  'Xy': 345.e+6  , # Ultimate yield strength (Pa), not in OrcaFlex model\n",
    "  'm': 3  ,  # Fatigue S/N curve fitting parameter S=A*N^(-1/m)\n",
    "  'A': 3.5534648443719767e10  ,  # Fatigue S/N curve fitting parameter S=A*N^(-1/m)\n",
    "  'unit_cost': 0.7  ,  # Unit cost of the material. Not in OrcaFlex model\n",
    "}\n",
    "\n",
    "# [0.0, 0.10047454902385111, 0.20094909804770222, 0.30142364707155334, 0.40189819609540445, 0.5023727451192556, 0.6028472941431067, 0.7033218431669578, 0.8037963921908089, 0.90427094121466, 1.0]\n"
   ]
  },
  {
   "cell_type": "code",
   "execution_count": 7,
   "id": "97bdc3cd-f884-415c-a1ff-8d19c7bac864",
   "metadata": {},
   "outputs": [],
   "source": [
    "weis_tower = remove_numpy(weis_tower)\n",
    "yaml=ry.YAML()\n",
    "yaml.indent(mapping=4, sequence=6, offset=3)\n",
    "# yaml.dump(weis_tower,sys.stdout)"
   ]
  },
  {
   "cell_type": "code",
   "execution_count": 6,
   "id": "f154c591-d7c7-4040-9b6d-977e1c5f899c",
   "metadata": {},
   "outputs": [
    {
     "name": "stdout",
     "output_type": "stream",
     "text": [
      "name: tower_material\n",
      "description: Information pulled from OrcaFlex input /Users/dzalkind/Downloads/K03\n",
      "    15MW semi-sub FOWT.yml\n",
      "source: Information pulled from OrcaFlex input /Users/dzalkind/Downloads/K03 15MW\n",
      "    semi-sub FOWT.yml\n",
      "orth: 0\n",
      "rho: 8346.0\n",
      "alpha: 0\n",
      "E: 200000000000.0\n",
      "nu: 0.261\n",
      "G: 79300000000.0\n",
      "GIc: 0\n",
      "GIIc: 0\n",
      "alp0: 0\n",
      "Xt: 450000000.0\n",
      "Xc: 450000000.0\n",
      "S: 0\n",
      "Xy: 345000000.0\n",
      "m: 3\n",
      "A: 35534648443.719765\n",
      "unit_cost: 0.7\n"
     ]
    }
   ],
   "source": [
    "weis_tower = remove_numpy(tower_material)\n",
    "yaml=ry.YAML()\n",
    "yaml.indent(mapping=4, sequence=6, offset=3)\n",
    "yaml.dump(tower_material,sys.stdout)\n",
    "\n"
   ]
  },
  {
   "cell_type": "markdown",
   "id": "7482570e-7722-4db2-8aab-25051a69cc44",
   "metadata": {},
   "source": [
    "# Nacelle"
   ]
  },
  {
   "cell_type": "code",
   "execution_count": 79,
   "id": "1831696e-2a02-4c32-98de-3a8112aef3b8",
   "metadata": {},
   "outputs": [],
   "source": [
    "# orca_yaml['6DBuoys']['Name']\n",
    "\n",
    "orca_turbine = orca_yaml['Turbines'][0]\n",
    "orca_nacelle = search_type(orca_yaml,'6DBuoys','Nacelle')\n",
    "\n",
    "# Reduce for readability\n",
    "# orca_nacelle.pop('VertexX, VertexY, VertexZ')\n",
    "# orca_nacelle.pop('PanelVertexIndex1, PanelVertexIndex2, PanelVertexIndex3, PanelVertexIndex4')\n",
    "\n",
    "orca_nacelle\n",
    "\n",
    "ne = {}\n",
    "ne[\"system_mass\"] = orca_nacelle['Mass'] * 1000 # Mass of the nacelle system, including the entire drivetrain system (shafts, gearbox if present, break, bearings, generator). It excludes the turbine rotor, the hub, and the yaw system.\n",
    "ne[\"yaw_mass\"] =  0  # Orcaflex puts all the mass in the nacelle, not sure how this will affect OpenFAST\n",
    "ne[\"system_inertia\"] =  np.r_[orca_nacelle['MomentsOfInertia'],0,0,0] * 1000  # This needs to be length 6, orcaflex relative to center of mass\n",
    "ne[\"system_inertia_tt\"] = np.r_[orca_nacelle['MomentsOfInertia'],0,0,0] * 1000  # TODO translate this?  Is it needed?\n",
    "ne[\"system_center_mass\"] = orca_nacelle['CentreOfMass'] \n",
    "\n",
    "weis_nacelle = {}\n",
    "weis_nacelle['elastic_properties_mb'] = ne\n",
    "\n",
    "dt = {}\n",
    "dt['uptilt'] = np.radians(orca_turbine['InitialAttitude'][1] - 90)  # TODO: check this, but this seems to be where 6 deg uptilt lives\n",
    "dt['generator_inertia_user'] = 1000*orca_turbine['GeneratorInertia']\n",
    "weis_nacelle['drivetrain'] = dt\n",
    "\n",
    "dt[\"distance_tt_hub\"] = orca_turbine['InitialPosition'][2]\n",
    "dt[\"overhang\"] = -orca_turbine['InitialPosition'][0]\n",
    "dt[\"gear_ratio\"] = orca_turbine['GeneratorGearRatio']\n",
    "dt[\"gearbox_efficiency\"] = 1.0  # OrcaFlex doesn't model efficiencies?\n",
    "\n",
    "\n",
    "\n",
    "hub_mb = {}\n",
    "hub = {}\n",
    "\n",
    "\n",
    "hub['diameter'] = orca_turbine['HubRadius'] * 2\n",
    "hub['cone_angle'] = np.radians(orca_turbine['PreConeAngle'])\n",
    "hub['elastic_properties_mb'] = hub_mb\n",
    "hub_mb['system_mass'] = orca_turbine['HubMass'] * 1000\n",
    "hub_mb['system_inertia']= 1000*np.r_[orca_turbine['HubAxialMomentOfInertia'],orca_turbine['HubTransverseMomentOfInertia'],orca_turbine['HubTransverseMomentOfInertia'],0,0,0]\n"
   ]
  },
  {
   "cell_type": "code",
   "execution_count": 80,
   "id": "ccc8224e-22fd-4b5c-bb31-3a27fe835add",
   "metadata": {},
   "outputs": [],
   "source": [
    "# orca_turbine"
   ]
  },
  {
   "cell_type": "code",
   "execution_count": 82,
   "id": "7024d4b8-2d5d-4133-8af8-e11d32d95fd4",
   "metadata": {},
   "outputs": [
    {
     "name": "stdout",
     "output_type": "stream",
     "text": [
      "diameter: 7.94\n",
      "cone_angle: 0.06981317007977318\n",
      "elastic_properties_mb:\n",
      "    system_mass: 69360.0\n",
      "    system_inertia:\n",
      "       -  973520.0\n",
      "       -  619970.0\n",
      "       -  619970.0\n",
      "       -  0.0\n",
      "       -  0.0\n",
      "       -  0.0\n"
     ]
    }
   ],
   "source": [
    "print_yaml(hub)"
   ]
  },
  {
   "cell_type": "code",
   "execution_count": null,
   "id": "638470dd-bda3-4259-8325-f3b07c955455",
   "metadata": {},
   "outputs": [],
   "source": [
    "# weis_tower = remove_numpy(tower_material)\n",
    "# yaml=ry.YAML()\n",
    "# yaml.indent(mapping=4, sequence=6, offset=3)\n",
    "# yaml.dump(tower_material,sys.stdout)"
   ]
  },
  {
   "cell_type": "code",
   "execution_count": null,
   "id": "fc839546-d983-4d19-8f07-2128c7e11c0d",
   "metadata": {},
   "outputs": [],
   "source": []
  },
  {
   "cell_type": "code",
   "execution_count": null,
   "id": "97367f5a-4bd0-42ec-87db-b43e90c13c2c",
   "metadata": {},
   "outputs": [],
   "source": [
    "type_info['E']"
   ]
  },
  {
   "cell_type": "code",
   "execution_count": 24,
   "id": "3f25370b-a0ad-49bd-8a4f-7a55c69aa137",
   "metadata": {},
   "outputs": [
    {
     "data": {
      "text/plain": [
       "0.10047454902385111"
      ]
     },
     "execution_count": 24,
     "metadata": {},
     "output_type": "execute_result"
    }
   ],
   "source": [
    "l = 144.386-15\n",
    "13 / l"
   ]
  },
  {
   "cell_type": "code",
   "execution_count": 32,
   "id": "2e2c46b3-8805-4f97-a770-4f33a2c4b1c6",
   "metadata": {},
   "outputs": [],
   "source": [
    "\n",
    "\n"
   ]
  },
  {
   "cell_type": "code",
   "execution_count": 36,
   "id": "8a5088cc-7911-4781-9e25-1dbc4feaa4ff",
   "metadata": {},
   "outputs": [
    {
     "data": {
      "text/plain": [
       "200000000.0"
      ]
     },
     "execution_count": 36,
     "metadata": {},
     "output_type": "execute_result"
    }
   ],
   "source": [
    "type_info['E']"
   ]
  },
  {
   "cell_type": "code",
   "execution_count": 28,
   "id": "16a5d4a8-6675-47a6-9836-26b8c3f7b238",
   "metadata": {},
   "outputs": [
    {
     "data": {
      "text/plain": [
       "array([  0.   ,  12.386,  25.386,  38.386,  51.386,  64.386,  77.386,\n",
       "        90.386, 103.386, 116.386, 129.386])"
      ]
     },
     "execution_count": 28,
     "metadata": {},
     "output_type": "execute_result"
    }
   ],
   "source": [
    "outer_diameter[:,0]"
   ]
  },
  {
   "cell_type": "code",
   "execution_count": 31,
   "id": "ff094246-0740-4df4-a9e0-442ac14ab1d8",
   "metadata": {},
   "outputs": [
    {
     "data": {
      "text/plain": [
       "array([  0.   ,  13.   ,  26.   ,  39.   ,  52.   ,  65.   ,  78.   ,\n",
       "        91.   , 104.   , 117.   , 129.386])"
      ]
     },
     "execution_count": 31,
     "metadata": {},
     "output_type": "execute_result"
    }
   ],
   "source": [
    "np.flip(outer_diameter[:,0][-1] - outer_diameter[:,0])"
   ]
  },
  {
   "cell_type": "code",
   "execution_count": 37,
   "id": "1a3fd183-a1cc-45ee-bd41-ae09af986b9c",
   "metadata": {},
   "outputs": [
    {
     "data": {
      "text/plain": [
       "8346.0"
      ]
     },
     "execution_count": 37,
     "metadata": {},
     "output_type": "execute_result"
    }
   ],
   "source": [
    "7800*1.07"
   ]
  },
  {
   "cell_type": "code",
   "execution_count": 38,
   "id": "3860c6d2-85f1-40d2-b6c7-970b13f63605",
   "metadata": {},
   "outputs": [
    {
     "data": {
      "text/plain": [
       "1.0698431488606097"
      ]
     },
     "execution_count": 38,
     "metadata": {},
     "output_type": "execute_result"
    }
   ],
   "source": [
    "36.15/33.79"
   ]
  },
  {
   "cell_type": "code",
   "execution_count": 41,
   "id": "d104ef82-f601-4ec0-bbbb-89f65e4c97cd",
   "metadata": {},
   "outputs": [
    {
     "data": {
      "text/plain": [
       "[<matplotlib.lines.Line2D at 0x314feed20>]"
      ]
     },
     "execution_count": 41,
     "metadata": {},
     "output_type": "execute_result"
    },
    {
     "data": {
      "image/png": "[encoded data removed]",
      "text/plain": [
       "<Figure size 640x480 with 1 Axes>"
      ]
     },
     "metadata": {},
     "output_type": "display_data"
    }
   ],
   "source": [
    "a = [3.000, 3.262, 3.523, 3.785, 4.047, 4.309, 4.570, 4.832, 5.094, 5.356, 5.617, 5.879, 6.141, 6.402, 6.664, 6.926, 7.188, 7.449, 7.711, 7.973, 8.234, 8.496, 8.758, 9.020, 9.281, 9.543, 9.805, 10.067, 10.328, 10.590, 11.070, 11.551, 12.031, 12.511, 12.992, 13.472, 13.952, 14.433, 14.913, 15.393 ,15.874 ,16.354, 16.834, 17.315, 17.795, 18.275, 18.756 ,19.236, 19.716 ,20.197, 20.677 ,21.157 ,21.638, 22.118, 22.598 ,23.079, 23.559 ,24.039 ,24.520, 25.000 ]\n",
    "\n",
    "b = [0.060  ,    0.060  ,    0.060     , 0.060   ,   0.060   ,   0.060  ,    0.057   ,   0.053  ,    0.048  ,    0.042   ,   0.037   ,   0.030  ,    0.024  ,    0.017   ,   0.010   ,   0.003    ,  0.000   ,   0.000   ,   0.000   ,   0.000   ,   0.000    ,  0.000   ,   0.000   ,   0.000   ,   0.000   ,   0.000    ,  0.000   ,   0.000   ,   0.000    ,  0.000   ,   0.000   ,   0.000  ,    0.000  ,    0.000   ,   0.000   ,   0.000   ,   0.000   ,   0.000  ,    0.000    ,  0.000   ,   0.000   ,   0.000  ,    0.000  ,    0.000  ,    0.000   ,   0.000   ,   0.000   ,   0.000    ,  0.000    ,  0.000  ,    0.000   ,   0.000   ,   0.000   ,   0.000  ,    0.000  ,    0.000   ,   0.000   ,   0.000  ,    0.000  ,    0.000 ]  \n",
    "\n",
    "import matplotlib.pyplot as plt\n",
    "plt.plot(a,b)"
   ]
  },
  {
   "cell_type": "code",
   "execution_count": null,
   "id": "c6ee6b11-70e4-4507-a87f-537d68e992cd",
   "metadata": {},
   "outputs": [],
   "source": []
  }
 ],
 "metadata": {
  "kernelspec": {
   "display_name": "weis-dlcs",
   "language": "python",
   "name": "weis-dlcs"
  },
  "language_info": {
   "codemirror_mode": {
    "name": "ipython",
    "version": 3
   },
   "file_extension": ".py",
   "mimetype": "text/x-python",
   "name": "python",
   "nbconvert_exporter": "python",
   "pygments_lexer": "ipython3",
   "version": "3.12.4"
  }
 },
 "nbformat": 4,
 "nbformat_minor": 5
}

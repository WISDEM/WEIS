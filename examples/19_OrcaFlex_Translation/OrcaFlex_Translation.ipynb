{
 "cells": [
  {
   "cell_type": "code",
   "execution_count": 138,
   "id": "666e4b62-35d5-4b53-8235-afba05d8e3a6",
   "metadata": {},
   "outputs": [],
   "source": [
    "# imports\n",
    "\n",
    "import numpy as np\n",
    "import os\n",
    "import yaml, sys\n",
    "try:\n",
    "    import ruamel_yaml as ry\n",
    "except Exception:\n",
    "    try:\n",
    "        import ruamel.yaml as ry\n",
    "    except Exception:\n",
    "        raise ImportError('No module named ruamel.yaml or ruamel_yaml')\n",
    "        \n",
    "\n",
    "import warnings\n",
    "# warnings.simplefilter('ignore', ry.yaml.error.MantissaNoDotYAML1_1Warning)\n"
   ]
  },
  {
   "cell_type": "code",
   "execution_count": 139,
   "id": "835e05b0-6752-42e8-9a61-8e0801f25766",
   "metadata": {},
   "outputs": [],
   "source": [
    "# Helper functions\n",
    "def get_line_type(orca_yaml,type_search):\n",
    "    for line_type in orca_yaml['LineTypes']:\n",
    "        if line_type['Name'] == type_search:\n",
    "            break\n",
    "    return line_type\n",
    "\n",
    "def get_variable_info(orca_yaml,variable_type, variable_name):\n",
    "    for var in orca_yaml['VariableData'][variable_type]:\n",
    "        if var['Name'] == variable_name:\n",
    "            break\n",
    "    return var['IndependentValue, DependentValue']\n",
    "\n"
   ]
  },
  {
   "cell_type": "code",
   "execution_count": 140,
   "id": "7300f744-b35e-4120-9dcb-efba26ea6af7",
   "metadata": {},
   "outputs": [],
   "source": [
    "from wisdem.inputs.validation import load_yaml\n",
    "\n",
    "orca_input = '/Users/dzalkind/Downloads/K03 15MW semi-sub FOWT.yml'\n",
    "orca_yaml = load_yaml(orca_input)\n"
   ]
  },
  {
   "cell_type": "markdown",
   "id": "5e16a198-7cee-491a-80ce-eab2309d4d2f",
   "metadata": {},
   "source": [
    "# Tower"
   ]
  },
  {
   "cell_type": "code",
   "execution_count": 141,
   "id": "09830c4c-838d-4946-a49b-c136e9a4cadf",
   "metadata": {},
   "outputs": [],
   "source": [
    "platform_name = 'VolturnUS-S'\n",
    "\n",
    "weis_tower = {}\n",
    "weis_tower['outer_shape_bem'] = {}\n",
    "weis_tower['internal_structure_2d_fem'] = {}\n",
    "\n",
    "\n",
    "\n",
    "# Tower line objet\n",
    "is_tower_line = [(line['Name'] == 'Tower') for line in orca_yaml['Lines']]\n",
    "if not any(is_tower_line):\n",
    "    raise Exception('No OrcaFlex Line objects are named \"Tower\".  This is required for WindIO tower information.')\n",
    "\n",
    "tower_line = orca_yaml['Lines'][np.where(is_tower_line)[0][0]]\n",
    "\n",
    "# Platform connection\n",
    "connections = tower_line['Connection, ConnectionX, ConnectionY, ConnectionZ, ConnectionAzimuth, ConnectionDeclination, ConnectionGamma, ConnectionReleaseStage, ConnectionzRelativeTo']\n",
    "# TODO: will we need to parse these multiple entries better?\n",
    "\n",
    "is_platform_connection = [(con[0] == platform_name) for con in connections]\n",
    "platform_connection = connections[np.where(is_platform_connection)[0][0]]\n",
    "platform_connection_xyz = platform_connection[1:4]   # TODO: parse better later?\n",
    "platform_connection_xyz\n",
    "\n",
    "# sections = []  # Supporting only 1 section for now\n",
    "\n",
    "tower_line_types = tower_line['LineType, Length, TargetSegmentLength']  # These are sections in orcaflex.  Not sure how we'll handle multiple. Save that for later\n",
    "previous_section_height = platform_connection_xyz[2]\n",
    "\n",
    "section = {}\n",
    "section['type'] = line_type[0]\n",
    "section['length'] = line_type[1]\n",
    "type_info = get_line_type(orca_yaml,section['type'])\n",
    "\n",
    "\n",
    "outer_diameter = np.array(get_variable_info(orca_yaml,'Linetypediameter','Tower OD'))  # top is 0\n",
    "inner_diameter = np.array(get_variable_info(orca_yaml,'Linetypediameter','Tower ID'))  # top is 0\n",
    "\n",
    "\n",
    "\n",
    "# It's an open question about what should be the ref axis.  Since we're sharing a reference with the inner and outer diameter, we'll use that as the reference axis for now.\n",
    "# Alternative: section['z'] = np.arange(previous_section_height,line_type[1],line_type[2])\n",
    "# Usign the inner/outer diameter variable info matches with the Also it matches with the IEA-15 WindIO input\n",
    "# If we get different values from partners, we will want to map/interpolate to a different axis\n",
    "ref_axis = {}\n",
    "ref_axis['x'] = {}\n",
    "ref_axis['y'] = {}\n",
    "ref_axis['z'] = {}\n",
    "\n",
    "ref_axis['z']['values'] = outer_diameter[:,0] + platform_connection_xyz[2]\n",
    "ref_axis['z']['grid'] = (ref_axis['z']['values'] - ref_axis['z']['values'][0]) / (ref_axis['z']['values'][-1] - ref_axis['z']['values'][0])\n",
    "\n",
    "# X and Y follow for now\n",
    "ref_axis['x']['grid'] = ref_axis['y']['grid'] = ref_axis['z']['grid']\n",
    "ref_axis['x']['values'] = ref_axis['y']['values'] = np.zeros(len(ref_axis['z']['grid']))\n",
    "weis_tower['outer_shape_bem']['reference_axis'] = ref_axis\n",
    "\n",
    "\n",
    "weis_tower['outer_shape_bem']['outer_diameter'] = {}\n",
    "weis_tower['outer_shape_bem']['outer_diameter']['grid'] = ref_axis['z']['grid']  # Shared for now, doesn't necessarily have to\n",
    "weis_tower['outer_shape_bem']['outer_diameter']['values'] = np.flip(outer_diameter[:,1])  # It's not super clear what indicator OrcaFlex uses to flip these coordinates, but they definitely are flipped\n",
    "\n",
    "# drag coefficient\n",
    "weis_tower['outer_shape_bem']['drag_coefficient'] = {}\n",
    "weis_tower['outer_shape_bem']['drag_coefficient']['grid'] = [0,1]\n",
    "weis_tower['outer_shape_bem']['drag_coefficient']['values'] = 2*[type_info['Cdn']] # TODO: double check this one\n",
    "\n",
    "# Internal structure\n",
    "weis_tower['internal_structure_2d_fem']['reference_axis'] = ref_axis\n",
    "weis_tower['internal_structure_2d_fem']['outfitting_factor'] = 1.07 # TODO: figure out if OrcaFlex is doing this\n",
    "layers = []\n",
    "tower_layer = {}\n",
    "tower_layer['name'] = 'tower_wall'\n",
    "tower_layer['material'] = 'tower_material'   # TODO: fill this in from available OrcaFlex info\n",
    "tower_layer['thickness'] = {}\n",
    "tower_layer['thickness']['grid'] = ref_axis['z']['grid']\n",
    "\n",
    "\n",
    "diameter_diff = (outer_diameter - inner_diameter)  #[:,1]\n",
    "thickness = np.flip(diameter_diff[:,1] / 2)\n",
    "\n",
    "tower_layer['thickness']['values'] = thickness\n",
    "\n",
    "tower_material = {}\n",
    "\n",
    "\n"
   ]
  },
  {
   "cell_type": "code",
   "execution_count": 128,
   "id": "f154c591-d7c7-4040-9b6d-977e1c5f899c",
   "metadata": {},
   "outputs": [],
   "source": [
    "# Find line type\n",
    "# Look for the name of a type and return the first version\n",
    "\n",
    "tower_material = {\n",
    "  'name': 'tower_material'  ,\n",
    "  'description': f'Information pulled from OrcaFlex input {orca_input}' , \n",
    "  'source': f'Information pulled from OrcaFlex input {orca_input}'   ,\n",
    "  'orth': 0, # TODO: Check\n",
    "  'rho': type_info['MaterialDensity'] * 1000,  # includes outfitting_factor in WindIO, OrcaFlex in g/cm^3\n",
    "  'alpha': 'temp'  , # TODO: Check\n",
    "  'E': type_info['E']  , \n",
    "  'nu': 'temp'  , \n",
    "  'G': 'temp'  ,\n",
    "  'GIc': 'temp'  ,\n",
    "  'GIIc': 'temp'  ,\n",
    "  'alp0': 'temp'  ,\n",
    "  'Xt': 'temp'  ,\n",
    "  'Xc': 'temp'  ,\n",
    "  'S': 'temp'  ,\n",
    "  'Xy': 'temp'  ,\n",
    "  'm': 'temp'  ,\n",
    "  'A': 'temp'  ,\n",
    "  'unit_cost': 'temp'  ,\n",
    "}\n",
    "\n",
    "\n",
    "# orca_yaml['LineTypes']"
   ]
  },
  {
   "cell_type": "code",
   "execution_count": 133,
   "id": "97367f5a-4bd0-42ec-87db-b43e90c13c2c",
   "metadata": {},
   "outputs": [
    {
     "data": {
      "text/plain": [
       "200000000.0"
      ]
     },
     "execution_count": 133,
     "metadata": {},
     "output_type": "execute_result"
    }
   ],
   "source": [
    "type_info['E']"
   ]
  },
  {
   "cell_type": "code",
   "execution_count": null,
   "id": "3f25370b-a0ad-49bd-8a4f-7a55c69aa137",
   "metadata": {},
   "outputs": [],
   "source": []
  },
  {
   "cell_type": "code",
   "execution_count": null,
   "id": "2e2c46b3-8805-4f97-a770-4f33a2c4b1c6",
   "metadata": {},
   "outputs": [],
   "source": []
  }
 ],
 "metadata": {
  "kernelspec": {
   "display_name": "weis-dlcs",
   "language": "python",
   "name": "weis-dlcs"
  },
  "language_info": {
   "codemirror_mode": {
    "name": "ipython",
    "version": 3
   },
   "file_extension": ".py",
   "mimetype": "text/x-python",
   "name": "python",
   "nbconvert_exporter": "python",
   "pygments_lexer": "ipython3",
   "version": "3.12.4"
  }
 },
 "nbformat": 4,
 "nbformat_minor": 5
}

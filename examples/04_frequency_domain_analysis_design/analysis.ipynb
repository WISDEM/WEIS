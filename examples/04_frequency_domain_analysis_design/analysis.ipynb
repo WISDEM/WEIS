{
 "cells": [
  {
   "cell_type": "code",
   "execution_count": 1,
   "id": "1a90987a",
   "metadata": {},
   "outputs": [],
   "source": [
    "from pathlib import Path\n",
    "\n",
    "import yaml\n",
    "import multiprocessing as mp\n",
    "\n",
    "import numpy as np\n",
    "import pandas as pd\n",
    "\n",
    "import openmdao.api as om\n",
    "\n",
    "import matplotlib.pyplot as plt\n",
    "import seaborn as sns\n",
    "\n",
    "import nsga2_weis.algo.fast_nondom_sort\n"
   ]
  },
  {
   "cell_type": "code",
   "execution_count": 2,
   "id": "07ddfccb",
   "metadata": {},
   "outputs": [],
   "source": [
    "def load_OMsql(log):\n",
    "    print(\"loading {}\".format(log))\n",
    "    cr = om.CaseReader(log)\n",
    "    rec_data = {}\n",
    "    #driver_cases = cr.list_cases(\"driver\")\n",
    "    cases = cr.get_cases(\"driver\")\n",
    "    for case in cases:\n",
    "        for key in case.outputs.keys():\n",
    "            if key not in rec_data:\n",
    "                rec_data[key] = []\n",
    "            rec_data[key].append(case[key])\n",
    "\n",
    "    return rec_data"
   ]
  },
  {
   "cell_type": "code",
   "execution_count": 3,
   "id": "19e7eaed",
   "metadata": {},
   "outputs": [],
   "source": [
    "# Multiprocssing?\n",
    "post_multi = False\n",
    "\n",
    "# sql outfile directory\n",
    "run_dir = Path.cwd()\n",
    "output_dir = run_dir / \"outputs\" / \"11_ps_check\"\n",
    "# output_dir = run_dir / \"outputs\" / \"04_iea22_raft_opt\"\n",
    "doe_logs = list(output_dir.glob(\"log_opt.sql*\"))\n",
    "N_logs = len(doe_logs)\n",
    "if N_logs < 1: raise FileExistsError(\"No output logs to post process!\")"
   ]
  },
  {
   "cell_type": "code",
   "execution_count": 4,
   "id": "ab36a247",
   "metadata": {},
   "outputs": [
    {
     "data": {
      "text/plain": [
       "[PosixPath('/Users/cfrontin/codes/WEIS/examples/04_frequency_domain_analysis_design/outputs/11_ps_check/log_opt.sql_83'),\n",
       " PosixPath('/Users/cfrontin/codes/WEIS/examples/04_frequency_domain_analysis_design/outputs/11_ps_check/log_opt.sql_77'),\n",
       " PosixPath('/Users/cfrontin/codes/WEIS/examples/04_frequency_domain_analysis_design/outputs/11_ps_check/log_opt.sql_48'),\n",
       " PosixPath('/Users/cfrontin/codes/WEIS/examples/04_frequency_domain_analysis_design/outputs/11_ps_check/log_opt.sql_70'),\n",
       " PosixPath('/Users/cfrontin/codes/WEIS/examples/04_frequency_domain_analysis_design/outputs/11_ps_check/log_opt.sql_84'),\n",
       " PosixPath('/Users/cfrontin/codes/WEIS/examples/04_frequency_domain_analysis_design/outputs/11_ps_check/log_opt.sql_46'),\n",
       " PosixPath('/Users/cfrontin/codes/WEIS/examples/04_frequency_domain_analysis_design/outputs/11_ps_check/log_opt.sql_79'),\n",
       " PosixPath('/Users/cfrontin/codes/WEIS/examples/04_frequency_domain_analysis_design/outputs/11_ps_check/log_opt.sql_41'),\n",
       " PosixPath('/Users/cfrontin/codes/WEIS/examples/04_frequency_domain_analysis_design/outputs/11_ps_check/log_opt.sql_15'),\n",
       " PosixPath('/Users/cfrontin/codes/WEIS/examples/04_frequency_domain_analysis_design/outputs/11_ps_check/log_opt.sql_12'),\n",
       " PosixPath('/Users/cfrontin/codes/WEIS/examples/04_frequency_domain_analysis_design/outputs/11_ps_check/log_opt.sql_24'),\n",
       " PosixPath('/Users/cfrontin/codes/WEIS/examples/04_frequency_domain_analysis_design/outputs/11_ps_check/log_opt.sql_23'),\n",
       " PosixPath('/Users/cfrontin/codes/WEIS/examples/04_frequency_domain_analysis_design/outputs/11_ps_check/log_opt.sql_40'),\n",
       " PosixPath('/Users/cfrontin/codes/WEIS/examples/04_frequency_domain_analysis_design/outputs/11_ps_check/log_opt.sql_47'),\n",
       " PosixPath('/Users/cfrontin/codes/WEIS/examples/04_frequency_domain_analysis_design/outputs/11_ps_check/log_opt.sql_78'),\n",
       " PosixPath('/Users/cfrontin/codes/WEIS/examples/04_frequency_domain_analysis_design/outputs/11_ps_check/log_opt.sql_71'),\n",
       " PosixPath('/Users/cfrontin/codes/WEIS/examples/04_frequency_domain_analysis_design/outputs/11_ps_check/log_opt.sql_76'),\n",
       " PosixPath('/Users/cfrontin/codes/WEIS/examples/04_frequency_domain_analysis_design/outputs/11_ps_check/log_opt.sql_82'),\n",
       " PosixPath('/Users/cfrontin/codes/WEIS/examples/04_frequency_domain_analysis_design/outputs/11_ps_check/log_opt.sql_49'),\n",
       " PosixPath('/Users/cfrontin/codes/WEIS/examples/04_frequency_domain_analysis_design/outputs/11_ps_check/log_opt.sql_22'),\n",
       " PosixPath('/Users/cfrontin/codes/WEIS/examples/04_frequency_domain_analysis_design/outputs/11_ps_check/log_opt.sql_25'),\n",
       " PosixPath('/Users/cfrontin/codes/WEIS/examples/04_frequency_domain_analysis_design/outputs/11_ps_check/log_opt.sql_13'),\n",
       " PosixPath('/Users/cfrontin/codes/WEIS/examples/04_frequency_domain_analysis_design/outputs/11_ps_check/log_opt.sql_14'),\n",
       " PosixPath('/Users/cfrontin/codes/WEIS/examples/04_frequency_domain_analysis_design/outputs/11_ps_check/log_opt.sql_4'),\n",
       " PosixPath('/Users/cfrontin/codes/WEIS/examples/04_frequency_domain_analysis_design/outputs/11_ps_check/log_opt.sql_3'),\n",
       " PosixPath('/Users/cfrontin/codes/WEIS/examples/04_frequency_domain_analysis_design/outputs/11_ps_check/log_opt.sql_2'),\n",
       " PosixPath('/Users/cfrontin/codes/WEIS/examples/04_frequency_domain_analysis_design/outputs/11_ps_check/log_opt.sql_5'),\n",
       " PosixPath('/Users/cfrontin/codes/WEIS/examples/04_frequency_domain_analysis_design/outputs/11_ps_check/log_opt.sql_36'),\n",
       " PosixPath('/Users/cfrontin/codes/WEIS/examples/04_frequency_domain_analysis_design/outputs/11_ps_check/log_opt.sql_31'),\n",
       " PosixPath('/Users/cfrontin/codes/WEIS/examples/04_frequency_domain_analysis_design/outputs/11_ps_check/log_opt.sql_38'),\n",
       " PosixPath('/Users/cfrontin/codes/WEIS/examples/04_frequency_domain_analysis_design/outputs/11_ps_check/log_opt.sql_54'),\n",
       " PosixPath('/Users/cfrontin/codes/WEIS/examples/04_frequency_domain_analysis_design/outputs/11_ps_check/log_opt.sql_53'),\n",
       " PosixPath('/Users/cfrontin/codes/WEIS/examples/04_frequency_domain_analysis_design/outputs/11_ps_check/log_opt.sql_65'),\n",
       " PosixPath('/Users/cfrontin/codes/WEIS/examples/04_frequency_domain_analysis_design/outputs/11_ps_check/log_opt.sql_62'),\n",
       " PosixPath('/Users/cfrontin/codes/WEIS/examples/04_frequency_domain_analysis_design/outputs/11_ps_check/log_opt.sql_39'),\n",
       " PosixPath('/Users/cfrontin/codes/WEIS/examples/04_frequency_domain_analysis_design/outputs/11_ps_check/log_opt.sql_30'),\n",
       " PosixPath('/Users/cfrontin/codes/WEIS/examples/04_frequency_domain_analysis_design/outputs/11_ps_check/log_opt.sql_37'),\n",
       " PosixPath('/Users/cfrontin/codes/WEIS/examples/04_frequency_domain_analysis_design/outputs/11_ps_check/log_opt.sql_63'),\n",
       " PosixPath('/Users/cfrontin/codes/WEIS/examples/04_frequency_domain_analysis_design/outputs/11_ps_check/log_opt.sql_64'),\n",
       " PosixPath('/Users/cfrontin/codes/WEIS/examples/04_frequency_domain_analysis_design/outputs/11_ps_check/log_opt.sql_52'),\n",
       " PosixPath('/Users/cfrontin/codes/WEIS/examples/04_frequency_domain_analysis_design/outputs/11_ps_check/log_opt.sql_55'),\n",
       " PosixPath('/Users/cfrontin/codes/WEIS/examples/04_frequency_domain_analysis_design/outputs/11_ps_check/log_opt.sql_11'),\n",
       " PosixPath('/Users/cfrontin/codes/WEIS/examples/04_frequency_domain_analysis_design/outputs/11_ps_check/log_opt.sql_29'),\n",
       " PosixPath('/Users/cfrontin/codes/WEIS/examples/04_frequency_domain_analysis_design/outputs/11_ps_check/log_opt.sql_16'),\n",
       " PosixPath('/Users/cfrontin/codes/WEIS/examples/04_frequency_domain_analysis_design/outputs/11_ps_check/log_opt.sql_20'),\n",
       " PosixPath('/Users/cfrontin/codes/WEIS/examples/04_frequency_domain_analysis_design/outputs/11_ps_check/log_opt.sql_18'),\n",
       " PosixPath('/Users/cfrontin/codes/WEIS/examples/04_frequency_domain_analysis_design/outputs/11_ps_check/log_opt.sql_27'),\n",
       " PosixPath('/Users/cfrontin/codes/WEIS/examples/04_frequency_domain_analysis_design/outputs/11_ps_check/log_opt.sql_73'),\n",
       " PosixPath('/Users/cfrontin/codes/WEIS/examples/04_frequency_domain_analysis_design/outputs/11_ps_check/log_opt.sql_80'),\n",
       " PosixPath('/Users/cfrontin/codes/WEIS/examples/04_frequency_domain_analysis_design/outputs/11_ps_check/log_opt.sql_74'),\n",
       " PosixPath('/Users/cfrontin/codes/WEIS/examples/04_frequency_domain_analysis_design/outputs/11_ps_check/log_opt.sql_42'),\n",
       " PosixPath('/Users/cfrontin/codes/WEIS/examples/04_frequency_domain_analysis_design/outputs/11_ps_check/log_opt.sql_45'),\n",
       " PosixPath('/Users/cfrontin/codes/WEIS/examples/04_frequency_domain_analysis_design/outputs/11_ps_check/log_opt.sql_19'),\n",
       " PosixPath('/Users/cfrontin/codes/WEIS/examples/04_frequency_domain_analysis_design/outputs/11_ps_check/log_opt.sql_26'),\n",
       " PosixPath('/Users/cfrontin/codes/WEIS/examples/04_frequency_domain_analysis_design/outputs/11_ps_check/log_opt.sql_21'),\n",
       " PosixPath('/Users/cfrontin/codes/WEIS/examples/04_frequency_domain_analysis_design/outputs/11_ps_check/log_opt.sql_28'),\n",
       " PosixPath('/Users/cfrontin/codes/WEIS/examples/04_frequency_domain_analysis_design/outputs/11_ps_check/log_opt.sql_17'),\n",
       " PosixPath('/Users/cfrontin/codes/WEIS/examples/04_frequency_domain_analysis_design/outputs/11_ps_check/log_opt.sql_10'),\n",
       " PosixPath('/Users/cfrontin/codes/WEIS/examples/04_frequency_domain_analysis_design/outputs/11_ps_check/log_opt.sql_44'),\n",
       " PosixPath('/Users/cfrontin/codes/WEIS/examples/04_frequency_domain_analysis_design/outputs/11_ps_check/log_opt.sql_43'),\n",
       " PosixPath('/Users/cfrontin/codes/WEIS/examples/04_frequency_domain_analysis_design/outputs/11_ps_check/log_opt.sql_75'),\n",
       " PosixPath('/Users/cfrontin/codes/WEIS/examples/04_frequency_domain_analysis_design/outputs/11_ps_check/log_opt.sql_81'),\n",
       " PosixPath('/Users/cfrontin/codes/WEIS/examples/04_frequency_domain_analysis_design/outputs/11_ps_check/log_opt.sql_72'),\n",
       " PosixPath('/Users/cfrontin/codes/WEIS/examples/04_frequency_domain_analysis_design/outputs/11_ps_check/log_opt.sql_0'),\n",
       " PosixPath('/Users/cfrontin/codes/WEIS/examples/04_frequency_domain_analysis_design/outputs/11_ps_check/log_opt.sql_7'),\n",
       " PosixPath('/Users/cfrontin/codes/WEIS/examples/04_frequency_domain_analysis_design/outputs/11_ps_check/log_opt.sql_9'),\n",
       " PosixPath('/Users/cfrontin/codes/WEIS/examples/04_frequency_domain_analysis_design/outputs/11_ps_check/log_opt.sql_8'),\n",
       " PosixPath('/Users/cfrontin/codes/WEIS/examples/04_frequency_domain_analysis_design/outputs/11_ps_check/log_opt.sql_6'),\n",
       " PosixPath('/Users/cfrontin/codes/WEIS/examples/04_frequency_domain_analysis_design/outputs/11_ps_check/log_opt.sql_1'),\n",
       " PosixPath('/Users/cfrontin/codes/WEIS/examples/04_frequency_domain_analysis_design/outputs/11_ps_check/log_opt.sql_50'),\n",
       " PosixPath('/Users/cfrontin/codes/WEIS/examples/04_frequency_domain_analysis_design/outputs/11_ps_check/log_opt.sql_68'),\n",
       " PosixPath('/Users/cfrontin/codes/WEIS/examples/04_frequency_domain_analysis_design/outputs/11_ps_check/log_opt.sql_57'),\n",
       " PosixPath('/Users/cfrontin/codes/WEIS/examples/04_frequency_domain_analysis_design/outputs/11_ps_check/log_opt.sql_61'),\n",
       " PosixPath('/Users/cfrontin/codes/WEIS/examples/04_frequency_domain_analysis_design/outputs/11_ps_check/log_opt.sql_59'),\n",
       " PosixPath('/Users/cfrontin/codes/WEIS/examples/04_frequency_domain_analysis_design/outputs/11_ps_check/log_opt.sql_66'),\n",
       " PosixPath('/Users/cfrontin/codes/WEIS/examples/04_frequency_domain_analysis_design/outputs/11_ps_check/log_opt.sql_32'),\n",
       " PosixPath('/Users/cfrontin/codes/WEIS/examples/04_frequency_domain_analysis_design/outputs/11_ps_check/log_opt.sql_35'),\n",
       " PosixPath('/Users/cfrontin/codes/WEIS/examples/04_frequency_domain_analysis_design/outputs/11_ps_check/log_opt.sql_58'),\n",
       " PosixPath('/Users/cfrontin/codes/WEIS/examples/04_frequency_domain_analysis_design/outputs/11_ps_check/log_opt.sql_67'),\n",
       " PosixPath('/Users/cfrontin/codes/WEIS/examples/04_frequency_domain_analysis_design/outputs/11_ps_check/log_opt.sql_60'),\n",
       " PosixPath('/Users/cfrontin/codes/WEIS/examples/04_frequency_domain_analysis_design/outputs/11_ps_check/log_opt.sql_69'),\n",
       " PosixPath('/Users/cfrontin/codes/WEIS/examples/04_frequency_domain_analysis_design/outputs/11_ps_check/log_opt.sql_56'),\n",
       " PosixPath('/Users/cfrontin/codes/WEIS/examples/04_frequency_domain_analysis_design/outputs/11_ps_check/log_opt.sql_51'),\n",
       " PosixPath('/Users/cfrontin/codes/WEIS/examples/04_frequency_domain_analysis_design/outputs/11_ps_check/log_opt.sql_34'),\n",
       " PosixPath('/Users/cfrontin/codes/WEIS/examples/04_frequency_domain_analysis_design/outputs/11_ps_check/log_opt.sql_33')]"
      ]
     },
     "execution_count": 4,
     "metadata": {},
     "output_type": "execute_result"
    }
   ],
   "source": [
    "# Remove the \"meta\" log\n",
    "for idx, log in enumerate(doe_logs):\n",
    "    if \"meta\" in log.suffix:\n",
    "        doe_logs.pop(idx)\n",
    "        N_logs -= 1\n",
    "doe_logs"
   ]
  },
  {
   "cell_type": "code",
   "execution_count": 5,
   "id": "e2173e76",
   "metadata": {},
   "outputs": [
    {
     "name": "stdout",
     "output_type": "stream",
     "text": [
      "loading /Users/cfrontin/codes/WEIS/examples/04_frequency_domain_analysis_design/outputs/11_ps_check/log_opt.sql_83\n",
      "loading /Users/cfrontin/codes/WEIS/examples/04_frequency_domain_analysis_design/outputs/11_ps_check/log_opt.sql_77\n",
      "loading /Users/cfrontin/codes/WEIS/examples/04_frequency_domain_analysis_design/outputs/11_ps_check/log_opt.sql_48\n",
      "loading /Users/cfrontin/codes/WEIS/examples/04_frequency_domain_analysis_design/outputs/11_ps_check/log_opt.sql_70\n",
      "loading /Users/cfrontin/codes/WEIS/examples/04_frequency_domain_analysis_design/outputs/11_ps_check/log_opt.sql_84\n",
      "loading /Users/cfrontin/codes/WEIS/examples/04_frequency_domain_analysis_design/outputs/11_ps_check/log_opt.sql_46\n",
      "loading /Users/cfrontin/codes/WEIS/examples/04_frequency_domain_analysis_design/outputs/11_ps_check/log_opt.sql_79\n",
      "loading /Users/cfrontin/codes/WEIS/examples/04_frequency_domain_analysis_design/outputs/11_ps_check/log_opt.sql_41\n",
      "loading /Users/cfrontin/codes/WEIS/examples/04_frequency_domain_analysis_design/outputs/11_ps_check/log_opt.sql_15\n",
      "loading /Users/cfrontin/codes/WEIS/examples/04_frequency_domain_analysis_design/outputs/11_ps_check/log_opt.sql_12\n",
      "loading /Users/cfrontin/codes/WEIS/examples/04_frequency_domain_analysis_design/outputs/11_ps_check/log_opt.sql_24\n",
      "loading /Users/cfrontin/codes/WEIS/examples/04_frequency_domain_analysis_design/outputs/11_ps_check/log_opt.sql_23\n",
      "loading /Users/cfrontin/codes/WEIS/examples/04_frequency_domain_analysis_design/outputs/11_ps_check/log_opt.sql_40\n",
      "loading /Users/cfrontin/codes/WEIS/examples/04_frequency_domain_analysis_design/outputs/11_ps_check/log_opt.sql_47\n",
      "loading /Users/cfrontin/codes/WEIS/examples/04_frequency_domain_analysis_design/outputs/11_ps_check/log_opt.sql_78\n",
      "loading /Users/cfrontin/codes/WEIS/examples/04_frequency_domain_analysis_design/outputs/11_ps_check/log_opt.sql_71\n",
      "loading /Users/cfrontin/codes/WEIS/examples/04_frequency_domain_analysis_design/outputs/11_ps_check/log_opt.sql_76\n",
      "loading /Users/cfrontin/codes/WEIS/examples/04_frequency_domain_analysis_design/outputs/11_ps_check/log_opt.sql_82\n",
      "loading /Users/cfrontin/codes/WEIS/examples/04_frequency_domain_analysis_design/outputs/11_ps_check/log_opt.sql_49\n",
      "loading /Users/cfrontin/codes/WEIS/examples/04_frequency_domain_analysis_design/outputs/11_ps_check/log_opt.sql_22\n",
      "loading /Users/cfrontin/codes/WEIS/examples/04_frequency_domain_analysis_design/outputs/11_ps_check/log_opt.sql_25\n",
      "loading /Users/cfrontin/codes/WEIS/examples/04_frequency_domain_analysis_design/outputs/11_ps_check/log_opt.sql_13\n",
      "loading /Users/cfrontin/codes/WEIS/examples/04_frequency_domain_analysis_design/outputs/11_ps_check/log_opt.sql_14\n",
      "loading /Users/cfrontin/codes/WEIS/examples/04_frequency_domain_analysis_design/outputs/11_ps_check/log_opt.sql_4\n",
      "loading /Users/cfrontin/codes/WEIS/examples/04_frequency_domain_analysis_design/outputs/11_ps_check/log_opt.sql_3\n",
      "loading /Users/cfrontin/codes/WEIS/examples/04_frequency_domain_analysis_design/outputs/11_ps_check/log_opt.sql_2\n",
      "loading /Users/cfrontin/codes/WEIS/examples/04_frequency_domain_analysis_design/outputs/11_ps_check/log_opt.sql_5\n",
      "loading /Users/cfrontin/codes/WEIS/examples/04_frequency_domain_analysis_design/outputs/11_ps_check/log_opt.sql_36\n",
      "loading /Users/cfrontin/codes/WEIS/examples/04_frequency_domain_analysis_design/outputs/11_ps_check/log_opt.sql_31\n",
      "loading /Users/cfrontin/codes/WEIS/examples/04_frequency_domain_analysis_design/outputs/11_ps_check/log_opt.sql_38\n",
      "loading /Users/cfrontin/codes/WEIS/examples/04_frequency_domain_analysis_design/outputs/11_ps_check/log_opt.sql_54\n",
      "loading /Users/cfrontin/codes/WEIS/examples/04_frequency_domain_analysis_design/outputs/11_ps_check/log_opt.sql_53\n",
      "loading /Users/cfrontin/codes/WEIS/examples/04_frequency_domain_analysis_design/outputs/11_ps_check/log_opt.sql_65\n",
      "loading /Users/cfrontin/codes/WEIS/examples/04_frequency_domain_analysis_design/outputs/11_ps_check/log_opt.sql_62\n",
      "loading /Users/cfrontin/codes/WEIS/examples/04_frequency_domain_analysis_design/outputs/11_ps_check/log_opt.sql_39\n",
      "loading /Users/cfrontin/codes/WEIS/examples/04_frequency_domain_analysis_design/outputs/11_ps_check/log_opt.sql_30\n",
      "loading /Users/cfrontin/codes/WEIS/examples/04_frequency_domain_analysis_design/outputs/11_ps_check/log_opt.sql_37\n",
      "loading /Users/cfrontin/codes/WEIS/examples/04_frequency_domain_analysis_design/outputs/11_ps_check/log_opt.sql_63\n",
      "loading /Users/cfrontin/codes/WEIS/examples/04_frequency_domain_analysis_design/outputs/11_ps_check/log_opt.sql_64\n",
      "loading /Users/cfrontin/codes/WEIS/examples/04_frequency_domain_analysis_design/outputs/11_ps_check/log_opt.sql_52\n",
      "loading /Users/cfrontin/codes/WEIS/examples/04_frequency_domain_analysis_design/outputs/11_ps_check/log_opt.sql_55\n",
      "loading /Users/cfrontin/codes/WEIS/examples/04_frequency_domain_analysis_design/outputs/11_ps_check/log_opt.sql_11\n",
      "loading /Users/cfrontin/codes/WEIS/examples/04_frequency_domain_analysis_design/outputs/11_ps_check/log_opt.sql_29\n",
      "loading /Users/cfrontin/codes/WEIS/examples/04_frequency_domain_analysis_design/outputs/11_ps_check/log_opt.sql_16\n",
      "loading /Users/cfrontin/codes/WEIS/examples/04_frequency_domain_analysis_design/outputs/11_ps_check/log_opt.sql_20\n",
      "loading /Users/cfrontin/codes/WEIS/examples/04_frequency_domain_analysis_design/outputs/11_ps_check/log_opt.sql_18\n",
      "loading /Users/cfrontin/codes/WEIS/examples/04_frequency_domain_analysis_design/outputs/11_ps_check/log_opt.sql_27\n",
      "loading /Users/cfrontin/codes/WEIS/examples/04_frequency_domain_analysis_design/outputs/11_ps_check/log_opt.sql_73\n",
      "loading /Users/cfrontin/codes/WEIS/examples/04_frequency_domain_analysis_design/outputs/11_ps_check/log_opt.sql_80\n",
      "loading /Users/cfrontin/codes/WEIS/examples/04_frequency_domain_analysis_design/outputs/11_ps_check/log_opt.sql_74\n",
      "loading /Users/cfrontin/codes/WEIS/examples/04_frequency_domain_analysis_design/outputs/11_ps_check/log_opt.sql_42\n",
      "loading /Users/cfrontin/codes/WEIS/examples/04_frequency_domain_analysis_design/outputs/11_ps_check/log_opt.sql_45\n",
      "loading /Users/cfrontin/codes/WEIS/examples/04_frequency_domain_analysis_design/outputs/11_ps_check/log_opt.sql_19\n",
      "loading /Users/cfrontin/codes/WEIS/examples/04_frequency_domain_analysis_design/outputs/11_ps_check/log_opt.sql_26\n",
      "loading /Users/cfrontin/codes/WEIS/examples/04_frequency_domain_analysis_design/outputs/11_ps_check/log_opt.sql_21\n",
      "loading /Users/cfrontin/codes/WEIS/examples/04_frequency_domain_analysis_design/outputs/11_ps_check/log_opt.sql_28\n",
      "loading /Users/cfrontin/codes/WEIS/examples/04_frequency_domain_analysis_design/outputs/11_ps_check/log_opt.sql_17\n",
      "loading /Users/cfrontin/codes/WEIS/examples/04_frequency_domain_analysis_design/outputs/11_ps_check/log_opt.sql_10\n",
      "loading /Users/cfrontin/codes/WEIS/examples/04_frequency_domain_analysis_design/outputs/11_ps_check/log_opt.sql_44\n",
      "loading /Users/cfrontin/codes/WEIS/examples/04_frequency_domain_analysis_design/outputs/11_ps_check/log_opt.sql_43\n",
      "loading /Users/cfrontin/codes/WEIS/examples/04_frequency_domain_analysis_design/outputs/11_ps_check/log_opt.sql_75\n",
      "loading /Users/cfrontin/codes/WEIS/examples/04_frequency_domain_analysis_design/outputs/11_ps_check/log_opt.sql_81\n",
      "loading /Users/cfrontin/codes/WEIS/examples/04_frequency_domain_analysis_design/outputs/11_ps_check/log_opt.sql_72\n",
      "loading /Users/cfrontin/codes/WEIS/examples/04_frequency_domain_analysis_design/outputs/11_ps_check/log_opt.sql_0\n",
      "loading /Users/cfrontin/codes/WEIS/examples/04_frequency_domain_analysis_design/outputs/11_ps_check/log_opt.sql_7\n",
      "loading /Users/cfrontin/codes/WEIS/examples/04_frequency_domain_analysis_design/outputs/11_ps_check/log_opt.sql_9\n",
      "loading /Users/cfrontin/codes/WEIS/examples/04_frequency_domain_analysis_design/outputs/11_ps_check/log_opt.sql_8\n",
      "loading /Users/cfrontin/codes/WEIS/examples/04_frequency_domain_analysis_design/outputs/11_ps_check/log_opt.sql_6\n",
      "loading /Users/cfrontin/codes/WEIS/examples/04_frequency_domain_analysis_design/outputs/11_ps_check/log_opt.sql_1\n",
      "loading /Users/cfrontin/codes/WEIS/examples/04_frequency_domain_analysis_design/outputs/11_ps_check/log_opt.sql_50\n",
      "loading /Users/cfrontin/codes/WEIS/examples/04_frequency_domain_analysis_design/outputs/11_ps_check/log_opt.sql_68\n",
      "loading /Users/cfrontin/codes/WEIS/examples/04_frequency_domain_analysis_design/outputs/11_ps_check/log_opt.sql_57\n",
      "loading /Users/cfrontin/codes/WEIS/examples/04_frequency_domain_analysis_design/outputs/11_ps_check/log_opt.sql_61\n",
      "loading /Users/cfrontin/codes/WEIS/examples/04_frequency_domain_analysis_design/outputs/11_ps_check/log_opt.sql_59\n",
      "loading /Users/cfrontin/codes/WEIS/examples/04_frequency_domain_analysis_design/outputs/11_ps_check/log_opt.sql_66\n",
      "loading /Users/cfrontin/codes/WEIS/examples/04_frequency_domain_analysis_design/outputs/11_ps_check/log_opt.sql_32\n",
      "loading /Users/cfrontin/codes/WEIS/examples/04_frequency_domain_analysis_design/outputs/11_ps_check/log_opt.sql_35\n",
      "loading /Users/cfrontin/codes/WEIS/examples/04_frequency_domain_analysis_design/outputs/11_ps_check/log_opt.sql_58\n",
      "loading /Users/cfrontin/codes/WEIS/examples/04_frequency_domain_analysis_design/outputs/11_ps_check/log_opt.sql_67\n",
      "loading /Users/cfrontin/codes/WEIS/examples/04_frequency_domain_analysis_design/outputs/11_ps_check/log_opt.sql_60\n",
      "loading /Users/cfrontin/codes/WEIS/examples/04_frequency_domain_analysis_design/outputs/11_ps_check/log_opt.sql_69\n",
      "loading /Users/cfrontin/codes/WEIS/examples/04_frequency_domain_analysis_design/outputs/11_ps_check/log_opt.sql_56\n",
      "loading /Users/cfrontin/codes/WEIS/examples/04_frequency_domain_analysis_design/outputs/11_ps_check/log_opt.sql_51\n",
      "loading /Users/cfrontin/codes/WEIS/examples/04_frequency_domain_analysis_design/outputs/11_ps_check/log_opt.sql_34\n",
      "loading /Users/cfrontin/codes/WEIS/examples/04_frequency_domain_analysis_design/outputs/11_ps_check/log_opt.sql_33\n"
     ]
    }
   ],
   "source": [
    "# run multiprocessing\n",
    "if post_multi:\n",
    "    cores = mp.cpu_count()\n",
    "    pool = mp.Pool(min(N_logs, cores))\n",
    "\n",
    "    # load sql file\n",
    "    outdata = pool.map(load_OMsql, doe_logs)\n",
    "    pool.close()\n",
    "    pool.join()\n",
    "# no multiprocessing\n",
    "else:\n",
    "    outdata = [load_OMsql(log) for log in doe_logs]\n",
    "\n",
    "collected_data = {}\n",
    "for data in outdata:\n",
    "    for key in data.keys():\n",
    "        if key not in collected_data.keys():\n",
    "            collected_data[key] = []\n",
    "\n",
    "        for key_idx, _ in enumerate(data[key]):\n",
    "            if isinstance(data[key][key_idx], int):\n",
    "                collected_data[key].append(np.array(data[key][key_idx]))\n",
    "            elif len(data[key][key_idx]) == 1:\n",
    "                try:\n",
    "                    collected_data[key].append(float(data[key][key_idx][0]))\n",
    "                except:\n",
    "                    collected_data[key].append(np.array(data[key][key_idx]))\n",
    "            else:\n",
    "                collected_data[key].append(np.array(data[key][key_idx]))"
   ]
  },
  {
   "cell_type": "code",
   "execution_count": 6,
   "id": "d68aac45",
   "metadata": {},
   "outputs": [
    {
     "name": "stdout",
     "output_type": "stream",
     "text": [
      "Saved /Users/cfrontin/codes/WEIS/examples/04_frequency_domain_analysis_design/outputs/11_ps_check/nsga2_ps_outdata.csv\n"
     ]
    }
   ],
   "source": [
    "# get the problem variables\n",
    "with open(output_dir / \"problem_vars.yaml\", 'r') as f:\n",
    "    problem_vars = yaml.safe_load(f)\n",
    "obj_minimize = np.ones_like([v[0] for v in problem_vars[\"objectives\"]], dtype=bool)\n",
    "for i, v in enumerate([v[0] for v in problem_vars[\"objectives\"]]):\n",
    "    if \"AEP\" in v: obj_minimize[i] = False\n",
    "\n",
    "# convert to dataframe\n",
    "df = pd.DataFrame.from_dict(collected_data)\n",
    "\n",
    "# add pareto rankings\n",
    "df[\"feasibility\"] = True\n",
    "for constr in problem_vars[\"constraints\"]:\n",
    "    df[\"feasibility\"] &= np.array([np.all(v > float(constr[1][\"lower\"])) for v in df[constr[0]]])\n",
    "    df[\"feasibility\"] &= np.array([np.all(v < float(constr[1][\"upper\"])) for v in df[constr[0]]])\n",
    "\n",
    "df[\"pareto_rank\"] = -1\n",
    "df.loc[df.feasibility, \"pareto_rank\"] = [int(v) for v in nsga2_weis.algo.fast_nondom_sort.fast_nondom_sort_ranks(\n",
    "    df[[v[0] for v in problem_vars[\"objectives\"]]][df.feasibility].to_numpy() * (2*obj_minimize - 1)\n",
    ")]\n",
    "df[\"pareto\"] = df[\"pareto_rank\"] == 0\n",
    "\n",
    "df[\"pareto_rank_noconstraint\"] = [int(v) for v in nsga2_weis.algo.fast_nondom_sort.fast_nondom_sort_ranks(\n",
    "    df[[v[0] for v in problem_vars[\"objectives\"]]].to_numpy() * (2*obj_minimize - 1)\n",
    ")]\n",
    "df[\"pareto_noconstraint\"] = df[\"pareto_rank_noconstraint\"] == 0\n",
    "\n",
    "# write to file\n",
    "outdata_fname = \"nsga2_ps_outdata\" if \"11_ps\" in output_dir.as_posix() else \"nsga2_outdata\"\n",
    "outdata_fpath = output_dir / outdata_fname\n",
    "df.to_csv(outdata_fpath.with_suffix(\".csv\"), index=False)\n",
    "print(\"Saved {}\".format(outdata_fpath.with_suffix(\".csv\")))"
   ]
  },
  {
   "cell_type": "code",
   "execution_count": 7,
   "id": "e8945238",
   "metadata": {},
   "outputs": [
    {
     "data": {
      "text/plain": [
       "<seaborn.axisgrid.PairGrid at 0x29afe1d30>"
      ]
     },
     "execution_count": 7,
     "metadata": {},
     "output_type": "execute_result"
    },
    {
     "data": {
      "image/png": "[encoded data removed]",
      "text/plain": [
       "<Figure size 584.875x500 with 6 Axes>"
      ]
     },
     "metadata": {},
     "output_type": "display_data"
    }
   ],
   "source": [
    "sns.pairplot(\n",
    "    df[[v[0] for v in problem_vars[\"objectives\"]] + [\n",
    "        \"pareto_noconstraint\",\n",
    "        \"feasibility\",\n",
    "    ]].sort_values(\"pareto_noconstraint\"),\n",
    "    vars=[v[0] for v in problem_vars[\"objectives\"]],\n",
    "    hue=\"feasibility\",\n",
    ")"
   ]
  },
  {
   "cell_type": "code",
   "execution_count": 8,
   "id": "26a884a8",
   "metadata": {},
   "outputs": [
    {
     "data": {
      "text/plain": [
       "<seaborn.axisgrid.PairGrid at 0x2bea18320>"
      ]
     },
     "execution_count": 8,
     "metadata": {},
     "output_type": "execute_result"
    },
    {
     "data": {
      "image/png": "[encoded data removed]",
      "text/plain": [
       "<Figure size 579.625x500 with 6 Axes>"
      ]
     },
     "metadata": {},
     "output_type": "display_data"
    }
   ],
   "source": [
    "sns.pairplot(\n",
    "    (df[df.pareto_rank == 0])[[\n",
    "        v[0] for v in problem_vars[\"objectives\"]\n",
    "    ] + [\n",
    "        \"pareto\",\n",
    "    ]],\n",
    "    vars=[v[0] for v in problem_vars[\"objectives\"]],\n",
    "    hue=\"pareto\",\n",
    ")"
   ]
  },
  {
   "cell_type": "code",
   "execution_count": 9,
   "id": "c53e3fff",
   "metadata": {},
   "outputs": [
    {
     "data": {
      "application/vnd.plotly.v1+json": {
       "config": {
        "plotlyServerURL": "https://plot.ly"
       },
       "data": [
        {
         "diagonal": {
          "visible": false
         },
         "dimensions": [
          {
           "label": "floatingse.system_structural_mass",
           "values": [
            7623752.985319387,
            8293052.788219287,
            8374119.031959657,
            8818909.976299964,
            8508503.534094704,
            8838553.807402529,
            7697919.589172523,
            8560531.101874486,
            7705370.344403057,
            7891100.045746042,
            7597959.924324295,
            7706791.207199923,
            7712843.435596193,
            8645563.14967634,
            7878565.525347294,
            7648601.257625768,
            7817059.388024509,
            7797255.931948385,
            7917369.325783949,
            8489063.27524283,
            8389769.514789745,
            7611078.638314901,
            7786154.06220983,
            7623640.801201285,
            8711246.616294153,
            8863758.923917096,
            7707781.178526452,
            8796048.70624806,
            7955297.940930734,
            7876285.56403221,
            7689795.457736078,
            8085392.036354479,
            7820513.202055792,
            9278849.919850733,
            8954834.785542995,
            8409369.432173405,
            8188247.138484168,
            7734274.830957947,
            7682912.953103587,
            7903735.939795774,
            7660037.726972698,
            7701978.919841447,
            8747566.061731488,
            8733757.390207104,
            8830797.998267123,
            7868528.791465073,
            7864293.1595580345,
            8791032.781044018,
            8863513.510597168,
            8508405.311381921,
            8372315.433244963,
            7598754.3493258245,
            8813223.37517443,
            8523545.58877495,
            8110508.251372913,
            8833463.583483152,
            7674920.746052956,
            7871993.489283392,
            7706808.920886195,
            8219504.2531869365,
            7698003.750702408,
            8992132.068154644,
            8284984.482688507,
            7890935.879782729,
            7697338.058480361,
            7564740.740041043,
            8224969.55831866,
            7687733.859129164,
            7537753.237341242,
            7850178.069019305,
            7752071.714365804,
            7701201.084812356,
            8756863.700912073,
            7628980.901809296,
            7699898.053980064
           ]
          },
          {
           "label": "rotorse.rp.AEP",
           "values": [
            110230089.4134124,
            111416379.69815877,
            111417501.90152472,
            111417670.42386088,
            111417670.41048872,
            111417670.5894921,
            110230089.4134124,
            111417670.92755641,
            111094854.06709813,
            111417374.67167033,
            108318874.47247484,
            110230089.4134124,
            111400331.37540029,
            111417671.02774613,
            111414005.17716506,
            108938870.20961604,
            111405676.61610274,
            111122234.4751674,
            111413906.55760579,
            111417515.74951547,
            111417668.88990556,
            108938870.20961604,
            111415311.21423599,
            110457127.67134462,
            111417670.42384906,
            111417671.01059859,
            111400630.40280001,
            111417670.86725904,
            111417668.71426538,
            111417664.90757395,
            110230089.4134124,
            111414051.25219499,
            111336051.7403731,
            111417670.90487878,
            111417670.9048899,
            111417661.07287224,
            111416709.23781507,
            111415406.27000822,
            110023281.77268288,
            111413906.55759916,
            108827548.62629747,
            110229422.62372705,
            111417668.09013103,
            111417670.49411136,
            111417670.42386094,
            111415550.94761756,
            111415664.31481373,
            111417670.4238489,
            111417671.0608267,
            111417670.42383291,
            111417668.00408901,
            108318375.87752111,
            111417670.42386088,
            111417670.42385738,
            111417667.31996359,
            111417670.42386472,
            108894437.36311142,
            111417671.04684767,
            110250383.24160668,
            111417671.07284355,
            110324268.68524769,
            111417670.9048737,
            111417660.76948398,
            111417361.66963294,
            109431520.48574376,
            108362153.67882086,
            111417670.88298747,
            111415311.21426909,
            108282231.69523324,
            111414188.13362768,
            110411115.45823991,
            111400630.40280001,
            111417670.7009145,
            108938870.20961604,
            110250403.71320665
           ]
          }
         ],
         "marker": {
          "colorbar": {
           "len": 0.5,
           "thickness": 20
          },
          "line": {
           "color": "white",
           "width": 0.5
          },
          "showscale": true
         },
         "type": "splom"
        }
       ],
       "layout": {
        "height": 600,
        "hovermode": "x",
        "hoversubplots": "axis",
        "template": {
         "data": {
          "bar": [
           {
            "error_x": {
             "color": "#2a3f5f"
            },
            "error_y": {
             "color": "#2a3f5f"
            },
            "marker": {
             "line": {
              "color": "#E5ECF6",
              "width": 0.5
             },
             "pattern": {
              "fillmode": "overlay",
              "size": 10,
              "solidity": 0.2
             }
            },
            "type": "bar"
           }
          ],
          "barpolar": [
           {
            "marker": {
             "line": {
              "color": "#E5ECF6",
              "width": 0.5
             },
             "pattern": {
              "fillmode": "overlay",
              "size": 10,
              "solidity": 0.2
             }
            },
            "type": "barpolar"
           }
          ],
          "carpet": [
           {
            "aaxis": {
             "endlinecolor": "#2a3f5f",
             "gridcolor": "white",
             "linecolor": "white",
             "minorgridcolor": "white",
             "startlinecolor": "#2a3f5f"
            },
            "baxis": {
             "endlinecolor": "#2a3f5f",
             "gridcolor": "white",
             "linecolor": "white",
             "minorgridcolor": "white",
             "startlinecolor": "#2a3f5f"
            },
            "type": "carpet"
           }
          ],
          "choropleth": [
           {
            "colorbar": {
             "outlinewidth": 0,
             "ticks": ""
            },
            "type": "choropleth"
           }
          ],
          "contour": [
           {
            "colorbar": {
             "outlinewidth": 0,
             "ticks": ""
            },
            "colorscale": [
             [
              0,
              "#0d0887"
             ],
             [
              0.1111111111111111,
              "#46039f"
             ],
             [
              0.2222222222222222,
              "#7201a8"
             ],
             [
              0.3333333333333333,
              "#9c179e"
             ],
             [
              0.4444444444444444,
              "#bd3786"
             ],
             [
              0.5555555555555556,
              "#d8576b"
             ],
             [
              0.6666666666666666,
              "#ed7953"
             ],
             [
              0.7777777777777778,
              "#fb9f3a"
             ],
             [
              0.8888888888888888,
              "#fdca26"
             ],
             [
              1,
              "#f0f921"
             ]
            ],
            "type": "contour"
           }
          ],
          "contourcarpet": [
           {
            "colorbar": {
             "outlinewidth": 0,
             "ticks": ""
            },
            "type": "contourcarpet"
           }
          ],
          "heatmap": [
           {
            "colorbar": {
             "outlinewidth": 0,
             "ticks": ""
            },
            "colorscale": [
             [
              0,
              "#0d0887"
             ],
             [
              0.1111111111111111,
              "#46039f"
             ],
             [
              0.2222222222222222,
              "#7201a8"
             ],
             [
              0.3333333333333333,
              "#9c179e"
             ],
             [
              0.4444444444444444,
              "#bd3786"
             ],
             [
              0.5555555555555556,
              "#d8576b"
             ],
             [
              0.6666666666666666,
              "#ed7953"
             ],
             [
              0.7777777777777778,
              "#fb9f3a"
             ],
             [
              0.8888888888888888,
              "#fdca26"
             ],
             [
              1,
              "#f0f921"
             ]
            ],
            "type": "heatmap"
           }
          ],
          "histogram": [
           {
            "marker": {
             "pattern": {
              "fillmode": "overlay",
              "size": 10,
              "solidity": 0.2
             }
            },
            "type": "histogram"
           }
          ],
          "histogram2d": [
           {
            "colorbar": {
             "outlinewidth": 0,
             "ticks": ""
            },
            "colorscale": [
             [
              0,
              "#0d0887"
             ],
             [
              0.1111111111111111,
              "#46039f"
             ],
             [
              0.2222222222222222,
              "#7201a8"
             ],
             [
              0.3333333333333333,
              "#9c179e"
             ],
             [
              0.4444444444444444,
              "#bd3786"
             ],
             [
              0.5555555555555556,
              "#d8576b"
             ],
             [
              0.6666666666666666,
              "#ed7953"
             ],
             [
              0.7777777777777778,
              "#fb9f3a"
             ],
             [
              0.8888888888888888,
              "#fdca26"
             ],
             [
              1,
              "#f0f921"
             ]
            ],
            "type": "histogram2d"
           }
          ],
          "histogram2dcontour": [
           {
            "colorbar": {
             "outlinewidth": 0,
             "ticks": ""
            },
            "colorscale": [
             [
              0,
              "#0d0887"
             ],
             [
              0.1111111111111111,
              "#46039f"
             ],
             [
              0.2222222222222222,
              "#7201a8"
             ],
             [
              0.3333333333333333,
              "#9c179e"
             ],
             [
              0.4444444444444444,
              "#bd3786"
             ],
             [
              0.5555555555555556,
              "#d8576b"
             ],
             [
              0.6666666666666666,
              "#ed7953"
             ],
             [
              0.7777777777777778,
              "#fb9f3a"
             ],
             [
              0.8888888888888888,
              "#fdca26"
             ],
             [
              1,
              "#f0f921"
             ]
            ],
            "type": "histogram2dcontour"
           }
          ],
          "mesh3d": [
           {
            "colorbar": {
             "outlinewidth": 0,
             "ticks": ""
            },
            "type": "mesh3d"
           }
          ],
          "parcoords": [
           {
            "line": {
             "colorbar": {
              "outlinewidth": 0,
              "ticks": ""
             }
            },
            "type": "parcoords"
           }
          ],
          "pie": [
           {
            "automargin": true,
            "type": "pie"
           }
          ],
          "scatter": [
           {
            "fillpattern": {
             "fillmode": "overlay",
             "size": 10,
             "solidity": 0.2
            },
            "type": "scatter"
           }
          ],
          "scatter3d": [
           {
            "line": {
             "colorbar": {
              "outlinewidth": 0,
              "ticks": ""
             }
            },
            "marker": {
             "colorbar": {
              "outlinewidth": 0,
              "ticks": ""
             }
            },
            "type": "scatter3d"
           }
          ],
          "scattercarpet": [
           {
            "marker": {
             "colorbar": {
              "outlinewidth": 0,
              "ticks": ""
             }
            },
            "type": "scattercarpet"
           }
          ],
          "scattergeo": [
           {
            "marker": {
             "colorbar": {
              "outlinewidth": 0,
              "ticks": ""
             }
            },
            "type": "scattergeo"
           }
          ],
          "scattergl": [
           {
            "marker": {
             "colorbar": {
              "outlinewidth": 0,
              "ticks": ""
             }
            },
            "type": "scattergl"
           }
          ],
          "scattermap": [
           {
            "marker": {
             "colorbar": {
              "outlinewidth": 0,
              "ticks": ""
             }
            },
            "type": "scattermap"
           }
          ],
          "scattermapbox": [
           {
            "marker": {
             "colorbar": {
              "outlinewidth": 0,
              "ticks": ""
             }
            },
            "type": "scattermapbox"
           }
          ],
          "scatterpolar": [
           {
            "marker": {
             "colorbar": {
              "outlinewidth": 0,
              "ticks": ""
             }
            },
            "type": "scatterpolar"
           }
          ],
          "scatterpolargl": [
           {
            "marker": {
             "colorbar": {
              "outlinewidth": 0,
              "ticks": ""
             }
            },
            "type": "scatterpolargl"
           }
          ],
          "scatterternary": [
           {
            "marker": {
             "colorbar": {
              "outlinewidth": 0,
              "ticks": ""
             }
            },
            "type": "scatterternary"
           }
          ],
          "surface": [
           {
            "colorbar": {
             "outlinewidth": 0,
             "ticks": ""
            },
            "colorscale": [
             [
              0,
              "#0d0887"
             ],
             [
              0.1111111111111111,
              "#46039f"
             ],
             [
              0.2222222222222222,
              "#7201a8"
             ],
             [
              0.3333333333333333,
              "#9c179e"
             ],
             [
              0.4444444444444444,
              "#bd3786"
             ],
             [
              0.5555555555555556,
              "#d8576b"
             ],
             [
              0.6666666666666666,
              "#ed7953"
             ],
             [
              0.7777777777777778,
              "#fb9f3a"
             ],
             [
              0.8888888888888888,
              "#fdca26"
             ],
             [
              1,
              "#f0f921"
             ]
            ],
            "type": "surface"
           }
          ],
          "table": [
           {
            "cells": {
             "fill": {
              "color": "#EBF0F8"
             },
             "line": {
              "color": "white"
             }
            },
            "header": {
             "fill": {
              "color": "#C8D4E3"
             },
             "line": {
              "color": "white"
             }
            },
            "type": "table"
           }
          ]
         },
         "layout": {
          "annotationdefaults": {
           "arrowcolor": "#2a3f5f",
           "arrowhead": 0,
           "arrowwidth": 1
          },
          "autotypenumbers": "strict",
          "coloraxis": {
           "colorbar": {
            "outlinewidth": 0,
            "ticks": ""
           }
          },
          "colorscale": {
           "diverging": [
            [
             0,
             "#8e0152"
            ],
            [
             0.1,
             "#c51b7d"
            ],
            [
             0.2,
             "#de77ae"
            ],
            [
             0.3,
             "#f1b6da"
            ],
            [
             0.4,
             "#fde0ef"
            ],
            [
             0.5,
             "#f7f7f7"
            ],
            [
             0.6,
             "#e6f5d0"
            ],
            [
             0.7,
             "#b8e186"
            ],
            [
             0.8,
             "#7fbc41"
            ],
            [
             0.9,
             "#4d9221"
            ],
            [
             1,
             "#276419"
            ]
           ],
           "sequential": [
            [
             0,
             "#0d0887"
            ],
            [
             0.1111111111111111,
             "#46039f"
            ],
            [
             0.2222222222222222,
             "#7201a8"
            ],
            [
             0.3333333333333333,
             "#9c179e"
            ],
            [
             0.4444444444444444,
             "#bd3786"
            ],
            [
             0.5555555555555556,
             "#d8576b"
            ],
            [
             0.6666666666666666,
             "#ed7953"
            ],
            [
             0.7777777777777778,
             "#fb9f3a"
            ],
            [
             0.8888888888888888,
             "#fdca26"
            ],
            [
             1,
             "#f0f921"
            ]
           ],
           "sequentialminus": [
            [
             0,
             "#0d0887"
            ],
            [
             0.1111111111111111,
             "#46039f"
            ],
            [
             0.2222222222222222,
             "#7201a8"
            ],
            [
             0.3333333333333333,
             "#9c179e"
            ],
            [
             0.4444444444444444,
             "#bd3786"
            ],
            [
             0.5555555555555556,
             "#d8576b"
            ],
            [
             0.6666666666666666,
             "#ed7953"
            ],
            [
             0.7777777777777778,
             "#fb9f3a"
            ],
            [
             0.8888888888888888,
             "#fdca26"
            ],
            [
             1,
             "#f0f921"
            ]
           ]
          },
          "colorway": [
           "#636efa",
           "#EF553B",
           "#00cc96",
           "#ab63fa",
           "#FFA15A",
           "#19d3f3",
           "#FF6692",
           "#B6E880",
           "#FF97FF",
           "#FECB52"
          ],
          "font": {
           "color": "#2a3f5f"
          },
          "geo": {
           "bgcolor": "white",
           "lakecolor": "white",
           "landcolor": "#E5ECF6",
           "showlakes": true,
           "showland": true,
           "subunitcolor": "white"
          },
          "hoverlabel": {
           "align": "left"
          },
          "hovermode": "closest",
          "mapbox": {
           "style": "light"
          },
          "paper_bgcolor": "white",
          "plot_bgcolor": "#E5ECF6",
          "polar": {
           "angularaxis": {
            "gridcolor": "white",
            "linecolor": "white",
            "ticks": ""
           },
           "bgcolor": "#E5ECF6",
           "radialaxis": {
            "gridcolor": "white",
            "linecolor": "white",
            "ticks": ""
           }
          },
          "scene": {
           "xaxis": {
            "backgroundcolor": "#E5ECF6",
            "gridcolor": "white",
            "gridwidth": 2,
            "linecolor": "white",
            "showbackground": true,
            "ticks": "",
            "zerolinecolor": "white"
           },
           "yaxis": {
            "backgroundcolor": "#E5ECF6",
            "gridcolor": "white",
            "gridwidth": 2,
            "linecolor": "white",
            "showbackground": true,
            "ticks": "",
            "zerolinecolor": "white"
           },
           "zaxis": {
            "backgroundcolor": "#E5ECF6",
            "gridcolor": "white",
            "gridwidth": 2,
            "linecolor": "white",
            "showbackground": true,
            "ticks": "",
            "zerolinecolor": "white"
           }
          },
          "shapedefaults": {
           "line": {
            "color": "#2a3f5f"
           }
          },
          "ternary": {
           "aaxis": {
            "gridcolor": "white",
            "linecolor": "white",
            "ticks": ""
           },
           "baxis": {
            "gridcolor": "white",
            "linecolor": "white",
            "ticks": ""
           },
           "bgcolor": "#E5ECF6",
           "caxis": {
            "gridcolor": "white",
            "linecolor": "white",
            "ticks": ""
           }
          },
          "title": {
           "x": 0.05
          },
          "xaxis": {
           "automargin": true,
           "gridcolor": "white",
           "linecolor": "white",
           "ticks": "",
           "title": {
            "standoff": 15
           },
           "zerolinecolor": "white",
           "zerolinewidth": 2
          },
          "yaxis": {
           "automargin": true,
           "gridcolor": "white",
           "linecolor": "white",
           "ticks": "",
           "title": {
            "standoff": 15
           },
           "zerolinecolor": "white",
           "zerolinewidth": 2
          }
         }
        },
        "title": {
         "text": "Pareto front"
        },
        "width": 600
       }
      }
     },
     "metadata": {},
     "output_type": "display_data"
    }
   ],
   "source": [
    "import plotly.graph_objects as go\n",
    "\n",
    "# dfw = df\n",
    "dfw = df[(df.pareto_rank >= 0) & (df.pareto_rank < 5)]\n",
    "# dfw = df[(df.pareto_rank == 0)]\n",
    "\n",
    "fig = go.Figure(\n",
    "    data=go.Splom(\n",
    "        dimensions=[\n",
    "            {\"label\": k, \"values\": v} for k, v in dfw[[\n",
    "                v[0] for v in problem_vars[\"objectives\"]\n",
    "            ] + [\n",
    "                # \"tune_rosco_ivc.ps_percent\"\n",
    "            ]].to_dict(orient=\"list\").items()\n",
    "        ],\n",
    "        # showupperhalf=False,\n",
    "        diagonal_visible=False,\n",
    "        # text=dfw[\"tune_rosco_ivc.ps_percent\"],\n",
    "        marker={\n",
    "            # \"color\": dfw[\"tune_rosco_ivc.ps_percent\"],\n",
    "            # \"color\": dfw.pareto_rank,\n",
    "            \"showscale\": False,\n",
    "            \"line_color\": \"white\",\n",
    "            \"line_width\": 0.5,\n",
    "        }\n",
    "    )\n",
    ")\n",
    "\n",
    "fig.update_traces(\n",
    "    marker=dict(\n",
    "        showscale=True,\n",
    "        colorbar=dict(\n",
    "            # title=\"Peak shaving\",\n",
    "            thickness=20,\n",
    "            len=0.5\n",
    "        )\n",
    "    ),\n",
    "    selector=dict(type='splom')\n",
    ")\n",
    "\n",
    "fig.update_layout(\n",
    "    title=dict(text=\"Pareto front\"),\n",
    "    hoversubplots=\"axis\",\n",
    "    width=600,\n",
    "    height=600,\n",
    "    hovermode=\"x\",\n",
    ")\n"
   ]
  },
  {
   "cell_type": "code",
   "execution_count": null,
   "id": "ae232595",
   "metadata": {},
   "outputs": [],
   "source": []
  },
  {
   "cell_type": "code",
   "execution_count": null,
   "id": "344171ed",
   "metadata": {},
   "outputs": [],
   "source": []
  }
 ],
 "metadata": {
  "kernelspec": {
   "display_name": "weis-nsga2-env",
   "language": "python",
   "name": "python3"
  },
  "language_info": {
   "codemirror_mode": {
    "name": "ipython",
    "version": 3
   },
   "file_extension": ".py",
   "mimetype": "text/x-python",
   "name": "python",
   "nbconvert_exporter": "python",
   "pygments_lexer": "ipython3",
   "version": "3.12.11"
  }
 },
 "nbformat": 4,
 "nbformat_minor": 5
}

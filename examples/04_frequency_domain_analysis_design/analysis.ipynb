{
 "cells": [
  {
   "cell_type": "code",
   "execution_count": 1,
   "id": "1a90987a",
   "metadata": {},
   "outputs": [],
   "source": [
    "from pathlib import Path\n",
    "\n",
    "import multiprocessing as mp\n",
    "\n",
    "import numpy as np\n",
    "import pandas as pd\n",
    "\n",
    "import openmdao.api as om\n",
    "\n",
    "import matplotlib.pyplot as plt\n",
    "import seaborn as sns\n",
    "\n",
    "import nsga2_weis.algo.fast_nondom_sort\n"
   ]
  },
  {
   "cell_type": "code",
   "execution_count": 2,
   "id": "07ddfccb",
   "metadata": {},
   "outputs": [],
   "source": [
    "def load_OMsql(log):\n",
    "    print(\"loading {}\".format(log))\n",
    "    cr = om.CaseReader(log)\n",
    "    rec_data = {}\n",
    "    #driver_cases = cr.list_cases(\"driver\")\n",
    "    cases = cr.get_cases(\"driver\")\n",
    "    for case in cases:\n",
    "        for key in case.outputs.keys():\n",
    "            if key not in rec_data:\n",
    "                rec_data[key] = []\n",
    "            rec_data[key].append(case[key])\n",
    "\n",
    "    return rec_data"
   ]
  },
  {
   "cell_type": "code",
   "execution_count": 3,
   "id": "19e7eaed",
   "metadata": {},
   "outputs": [],
   "source": [
    "# Multiprocssing?\n",
    "post_multi = False\n",
    "\n",
    "# sql outfile directory\n",
    "run_dir = Path.cwd()\n",
    "output_dir = run_dir / \"outputs\" / \"04_iea22_raft_opt\"\n",
    "doe_logs = list(output_dir.glob(\"log_opt.sql*\"))\n",
    "N_logs = len(doe_logs)\n",
    "if N_logs < 1: raise FileExistsError(\"No output logs to post process!\")"
   ]
  },
  {
   "cell_type": "code",
   "execution_count": 4,
   "id": "ab36a247",
   "metadata": {},
   "outputs": [
    {
     "data": {
      "text/plain": [
       "[PosixPath('/Users/cfrontin/codes/WEIS/examples/04_frequency_domain_analysis_design/outputs/04_iea22_raft_opt/log_opt.sql_2'),\n",
       " PosixPath('/Users/cfrontin/codes/WEIS/examples/04_frequency_domain_analysis_design/outputs/04_iea22_raft_opt/log_opt.sql_0'),\n",
       " PosixPath('/Users/cfrontin/codes/WEIS/examples/04_frequency_domain_analysis_design/outputs/04_iea22_raft_opt/log_opt.sql_1')]"
      ]
     },
     "execution_count": 4,
     "metadata": {},
     "output_type": "execute_result"
    }
   ],
   "source": [
    "# Remove the \"meta\" log\n",
    "for idx, log in enumerate(doe_logs):\n",
    "    if \"meta\" in log.suffix:\n",
    "        doe_logs.pop(idx)\n",
    "        N_logs -= 1\n",
    "doe_logs"
   ]
  },
  {
   "cell_type": "code",
   "execution_count": 5,
   "id": "e2173e76",
   "metadata": {},
   "outputs": [
    {
     "name": "stdout",
     "output_type": "stream",
     "text": [
      "loading /Users/cfrontin/codes/WEIS/examples/04_frequency_domain_analysis_design/outputs/04_iea22_raft_opt/log_opt.sql_2\n",
      "loading /Users/cfrontin/codes/WEIS/examples/04_frequency_domain_analysis_design/outputs/04_iea22_raft_opt/log_opt.sql_0\n",
      "loading /Users/cfrontin/codes/WEIS/examples/04_frequency_domain_analysis_design/outputs/04_iea22_raft_opt/log_opt.sql_1\n",
      "Saved /Users/cfrontin/codes/WEIS/examples/04_frequency_domain_analysis_design/outputs/04_iea22_raft_opt/nsga2_outdata.csv\n"
     ]
    }
   ],
   "source": [
    "# run multiprocessing\n",
    "if post_multi:\n",
    "    cores = mp.cpu_count()\n",
    "    pool = mp.Pool(min(N_logs, cores))\n",
    "\n",
    "    # load sql file\n",
    "    outdata = pool.map(load_OMsql, doe_logs)\n",
    "    pool.close()\n",
    "    pool.join()\n",
    "# no multiprocessing\n",
    "else:\n",
    "    outdata = [load_OMsql(log) for log in doe_logs]\n",
    "\n",
    "collected_data = {}\n",
    "for data in outdata:\n",
    "    for key in data.keys():\n",
    "        if key not in collected_data.keys():\n",
    "            collected_data[key] = []\n",
    "\n",
    "        for key_idx, _ in enumerate(data[key]):\n",
    "            if isinstance(data[key][key_idx], int):\n",
    "                collected_data[key].append(np.array(data[key][key_idx]))\n",
    "            elif len(data[key][key_idx]) == 1:\n",
    "                try:\n",
    "                    collected_data[key].append(float(data[key][key_idx][0]))\n",
    "                except:\n",
    "                    collected_data[key].append(np.array(data[key][key_idx]))\n",
    "            else:\n",
    "                collected_data[key].append(np.array(data[key][key_idx]))\n",
    "\n",
    "df = pd.DataFrame.from_dict(collected_data)\n",
    "df[\"pareto_rank_noconstraint\"] = nsga2_weis.algo.fast_nondom_sort.fast_nondom_sort_ranks(df[[\"floatingse.system_structural_mass\", \"raft.Max_PtfmPitch\", \"raft.Std_PtfmPitch\"]].to_numpy())\n",
    "df[\"pareto_noconstraint\"] = df[\"pareto_rank_noconstraint\"] == 0\n",
    "\n",
    "# write to file\n",
    "outdata_fname = \"nsga2_outdata\"\n",
    "outdata_fpath = output_dir / outdata_fname\n",
    "df.to_csv(outdata_fpath.with_suffix(\".csv\"), index=False)\n",
    "print(\"Saved {}\".format(outdata_fpath.with_suffix(\".csv\")))\n",
    "# FileTools.save_yaml(output_dir, outdata_fname + \".yaml\", collected_data, package=2)"
   ]
  },
  {
   "cell_type": "code",
   "execution_count": null,
   "id": "e8945238",
   "metadata": {},
   "outputs": [
    {
     "ename": "KeyError",
     "evalue": "\"['pareto_no_constraints'] not in index\"",
     "output_type": "error",
     "traceback": [
      "\u001b[31m---------------------------------------------------------------------------\u001b[39m",
      "\u001b[31mKeyError\u001b[39m                                  Traceback (most recent call last)",
      "\u001b[36mCell\u001b[39m\u001b[36m \u001b[39m\u001b[32mIn[8]\u001b[39m\u001b[32m, line 2\u001b[39m\n\u001b[32m      1\u001b[39m sns.pairplot(\n\u001b[32m----> \u001b[39m\u001b[32m2\u001b[39m     \u001b[43mdf\u001b[49m\u001b[43m[\u001b[49m\u001b[43m[\u001b[49m\n\u001b[32m      3\u001b[39m \u001b[43m        \u001b[49m\u001b[33;43m\"\u001b[39;49m\u001b[33;43mraft.Max_PtfmPitch\u001b[39;49m\u001b[33;43m\"\u001b[39;49m\u001b[43m,\u001b[49m\n\u001b[32m      4\u001b[39m \u001b[43m        \u001b[49m\u001b[33;43m\"\u001b[39;49m\u001b[33;43mraft.Std_PtfmPitch\u001b[39;49m\u001b[33;43m\"\u001b[39;49m\u001b[43m,\u001b[49m\n\u001b[32m      5\u001b[39m \u001b[43m        \u001b[49m\u001b[33;43m\"\u001b[39;49m\u001b[33;43mfloatingse.system_structural_mass\u001b[39;49m\u001b[33;43m\"\u001b[39;49m\u001b[43m,\u001b[49m\n\u001b[32m      6\u001b[39m \u001b[43m        \u001b[49m\u001b[33;43m\"\u001b[39;49m\u001b[33;43mpareto_no_constraints\u001b[39;49m\u001b[33;43m\"\u001b[39;49m\u001b[43m,\u001b[49m\n\u001b[32m      7\u001b[39m \u001b[43m    \u001b[49m\u001b[43m]\u001b[49m\u001b[43m]\u001b[49m,\n\u001b[32m      8\u001b[39m     \u001b[38;5;28mvars\u001b[39m=[\n\u001b[32m      9\u001b[39m         \u001b[33m\"\u001b[39m\u001b[33mraft.Max_PtfmPitch\u001b[39m\u001b[33m\"\u001b[39m,\n\u001b[32m     10\u001b[39m         \u001b[33m\"\u001b[39m\u001b[33mraft.Std_PtfmPitch\u001b[39m\u001b[33m\"\u001b[39m,\n\u001b[32m     11\u001b[39m         \u001b[33m\"\u001b[39m\u001b[33mfloatingse.system_structural_mass\u001b[39m\u001b[33m\"\u001b[39m,\n\u001b[32m     12\u001b[39m     ],\n\u001b[32m     13\u001b[39m     hue=\u001b[33m\"\u001b[39m\u001b[33mpareto_no_constraints\u001b[39m\u001b[33m\"\u001b[39m,\n\u001b[32m     14\u001b[39m )\n",
      "\u001b[36mFile \u001b[39m\u001b[32m~/miniforge3/envs/weis-nsga2-env/lib/python3.12/site-packages/pandas/core/frame.py:4113\u001b[39m, in \u001b[36mDataFrame.__getitem__\u001b[39m\u001b[34m(self, key)\u001b[39m\n\u001b[32m   4111\u001b[39m     \u001b[38;5;28;01mif\u001b[39;00m is_iterator(key):\n\u001b[32m   4112\u001b[39m         key = \u001b[38;5;28mlist\u001b[39m(key)\n\u001b[32m-> \u001b[39m\u001b[32m4113\u001b[39m     indexer = \u001b[38;5;28;43mself\u001b[39;49m\u001b[43m.\u001b[49m\u001b[43mcolumns\u001b[49m\u001b[43m.\u001b[49m\u001b[43m_get_indexer_strict\u001b[49m\u001b[43m(\u001b[49m\u001b[43mkey\u001b[49m\u001b[43m,\u001b[49m\u001b[43m \u001b[49m\u001b[33;43m\"\u001b[39;49m\u001b[33;43mcolumns\u001b[39;49m\u001b[33;43m\"\u001b[39;49m\u001b[43m)\u001b[49m[\u001b[32m1\u001b[39m]\n\u001b[32m   4115\u001b[39m \u001b[38;5;66;03m# take() does not accept boolean indexers\u001b[39;00m\n\u001b[32m   4116\u001b[39m \u001b[38;5;28;01mif\u001b[39;00m \u001b[38;5;28mgetattr\u001b[39m(indexer, \u001b[33m\"\u001b[39m\u001b[33mdtype\u001b[39m\u001b[33m\"\u001b[39m, \u001b[38;5;28;01mNone\u001b[39;00m) == \u001b[38;5;28mbool\u001b[39m:\n",
      "\u001b[36mFile \u001b[39m\u001b[32m~/miniforge3/envs/weis-nsga2-env/lib/python3.12/site-packages/pandas/core/indexes/base.py:6212\u001b[39m, in \u001b[36mIndex._get_indexer_strict\u001b[39m\u001b[34m(self, key, axis_name)\u001b[39m\n\u001b[32m   6209\u001b[39m \u001b[38;5;28;01melse\u001b[39;00m:\n\u001b[32m   6210\u001b[39m     keyarr, indexer, new_indexer = \u001b[38;5;28mself\u001b[39m._reindex_non_unique(keyarr)\n\u001b[32m-> \u001b[39m\u001b[32m6212\u001b[39m \u001b[38;5;28;43mself\u001b[39;49m\u001b[43m.\u001b[49m\u001b[43m_raise_if_missing\u001b[49m\u001b[43m(\u001b[49m\u001b[43mkeyarr\u001b[49m\u001b[43m,\u001b[49m\u001b[43m \u001b[49m\u001b[43mindexer\u001b[49m\u001b[43m,\u001b[49m\u001b[43m \u001b[49m\u001b[43maxis_name\u001b[49m\u001b[43m)\u001b[49m\n\u001b[32m   6214\u001b[39m keyarr = \u001b[38;5;28mself\u001b[39m.take(indexer)\n\u001b[32m   6215\u001b[39m \u001b[38;5;28;01mif\u001b[39;00m \u001b[38;5;28misinstance\u001b[39m(key, Index):\n\u001b[32m   6216\u001b[39m     \u001b[38;5;66;03m# GH 42790 - Preserve name from an Index\u001b[39;00m\n",
      "\u001b[36mFile \u001b[39m\u001b[32m~/miniforge3/envs/weis-nsga2-env/lib/python3.12/site-packages/pandas/core/indexes/base.py:6264\u001b[39m, in \u001b[36mIndex._raise_if_missing\u001b[39m\u001b[34m(self, key, indexer, axis_name)\u001b[39m\n\u001b[32m   6261\u001b[39m     \u001b[38;5;28;01mraise\u001b[39;00m \u001b[38;5;167;01mKeyError\u001b[39;00m(\u001b[33mf\u001b[39m\u001b[33m\"\u001b[39m\u001b[33mNone of [\u001b[39m\u001b[38;5;132;01m{\u001b[39;00mkey\u001b[38;5;132;01m}\u001b[39;00m\u001b[33m] are in the [\u001b[39m\u001b[38;5;132;01m{\u001b[39;00maxis_name\u001b[38;5;132;01m}\u001b[39;00m\u001b[33m]\u001b[39m\u001b[33m\"\u001b[39m)\n\u001b[32m   6263\u001b[39m not_found = \u001b[38;5;28mlist\u001b[39m(ensure_index(key)[missing_mask.nonzero()[\u001b[32m0\u001b[39m]].unique())\n\u001b[32m-> \u001b[39m\u001b[32m6264\u001b[39m \u001b[38;5;28;01mraise\u001b[39;00m \u001b[38;5;167;01mKeyError\u001b[39;00m(\u001b[33mf\u001b[39m\u001b[33m\"\u001b[39m\u001b[38;5;132;01m{\u001b[39;00mnot_found\u001b[38;5;132;01m}\u001b[39;00m\u001b[33m not in index\u001b[39m\u001b[33m\"\u001b[39m)\n",
      "\u001b[31mKeyError\u001b[39m: \"['pareto_no_constraints'] not in index\""
     ]
    }
   ],
   "source": [
    "sns.pairplot(\n",
    "    df[[\n",
    "        \"raft.Max_PtfmPitch\",\n",
    "        \"raft.Std_PtfmPitch\",\n",
    "        \"floatingse.system_structural_mass\",\n",
    "        \"pareto_noconstraint\",\n",
    "    ]],\n",
    "    vars=[\n",
    "        \"raft.Max_PtfmPitch\",\n",
    "        \"raft.Std_PtfmPitch\",\n",
    "        \"floatingse.system_structural_mass\",\n",
    "    ],\n",
    "    hue=\"pareto_noconstraint\",\n",
    ")"
   ]
  },
  {
   "cell_type": "code",
   "execution_count": null,
   "id": "26a884a8",
   "metadata": {},
   "outputs": [],
   "source": []
  }
 ],
 "metadata": {
  "kernelspec": {
   "display_name": "weis-nsga2-env",
   "language": "python",
   "name": "python3"
  },
  "language_info": {
   "codemirror_mode": {
    "name": "ipython",
    "version": 3
   },
   "file_extension": ".py",
   "mimetype": "text/x-python",
   "name": "python",
   "nbconvert_exporter": "python",
   "pygments_lexer": "ipython3",
   "version": "3.12.11"
  }
 },
 "nbformat": 4,
 "nbformat_minor": 5
}

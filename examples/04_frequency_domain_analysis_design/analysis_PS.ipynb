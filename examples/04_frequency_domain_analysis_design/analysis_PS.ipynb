{
 "cells": [
  {
   "cell_type": "code",
   "execution_count": 1,
   "id": "1a90987a",
   "metadata": {},
   "outputs": [],
   "source": [
    "from pathlib import Path\n",
    "\n",
    "import yaml\n",
    "import multiprocessing as mp\n",
    "\n",
    "import numpy as np\n",
    "import pandas as pd\n",
    "\n",
    "import openmdao.api as om\n",
    "\n",
    "import matplotlib.pyplot as plt\n",
    "import seaborn as sns\n",
    "\n",
    "import nsga2_weis.algo.fast_nondom_sort\n"
   ]
  },
  {
   "cell_type": "code",
   "execution_count": 2,
   "id": "07ddfccb",
   "metadata": {},
   "outputs": [],
   "source": [
    "def load_OMsql(log):\n",
    "    print(\"loading {}\".format(log))\n",
    "    cr = om.CaseReader(log)\n",
    "    rec_data = {}\n",
    "    #driver_cases = cr.list_cases(\"driver\")\n",
    "    cases = cr.get_cases(\"driver\")\n",
    "    for case in cases:\n",
    "        for key in case.outputs.keys():\n",
    "            if key not in rec_data:\n",
    "                rec_data[key] = []\n",
    "            rec_data[key].append(case[key])\n",
    "\n",
    "    return rec_data"
   ]
  },
  {
   "cell_type": "code",
   "execution_count": 3,
   "id": "19e7eaed",
   "metadata": {},
   "outputs": [],
   "source": [
    "# Multiprocssing?\n",
    "post_multi = False\n",
    "\n",
    "# sql outfile directory\n",
    "run_dir = Path.cwd()\n",
    "output_dir = run_dir / \"outputs\" / \"11_ps_check\"\n",
    "doe_logs = list(output_dir.glob(\"log_opt.sql*\"))\n",
    "N_logs = len(doe_logs)\n",
    "if N_logs < 1: raise FileExistsError(\"No output logs to post process!\")"
   ]
  },
  {
   "cell_type": "code",
   "execution_count": 4,
   "id": "ab36a247",
   "metadata": {},
   "outputs": [
    {
     "data": {
      "text/plain": [
       "[PosixPath('/Users/cfrontin/codes/WEIS/examples/04_frequency_domain_analysis_design/outputs/11_ps_check/log_opt.sql_3'),\n",
       " PosixPath('/Users/cfrontin/codes/WEIS/examples/04_frequency_domain_analysis_design/outputs/11_ps_check/log_opt.sql_2'),\n",
       " PosixPath('/Users/cfrontin/codes/WEIS/examples/04_frequency_domain_analysis_design/outputs/11_ps_check/log_opt.sql'),\n",
       " PosixPath('/Users/cfrontin/codes/WEIS/examples/04_frequency_domain_analysis_design/outputs/11_ps_check/log_opt.sql_0'),\n",
       " PosixPath('/Users/cfrontin/codes/WEIS/examples/04_frequency_domain_analysis_design/outputs/11_ps_check/log_opt.sql_1')]"
      ]
     },
     "execution_count": 4,
     "metadata": {},
     "output_type": "execute_result"
    }
   ],
   "source": [
    "# Remove the \"meta\" log\n",
    "for idx, log in enumerate(doe_logs):\n",
    "    if \"meta\" in log.suffix:\n",
    "        doe_logs.pop(idx)\n",
    "        N_logs -= 1\n",
    "doe_logs"
   ]
  },
  {
   "cell_type": "code",
   "execution_count": 5,
   "id": "e2173e76",
   "metadata": {},
   "outputs": [
    {
     "name": "stdout",
     "output_type": "stream",
     "text": [
      "loading /Users/cfrontin/codes/WEIS/examples/04_frequency_domain_analysis_design/outputs/11_ps_check/log_opt.sql_3\n",
      "loading /Users/cfrontin/codes/WEIS/examples/04_frequency_domain_analysis_design/outputs/11_ps_check/log_opt.sql_2\n",
      "loading /Users/cfrontin/codes/WEIS/examples/04_frequency_domain_analysis_design/outputs/11_ps_check/log_opt.sql\n",
      "loading /Users/cfrontin/codes/WEIS/examples/04_frequency_domain_analysis_design/outputs/11_ps_check/log_opt.sql_0\n",
      "loading /Users/cfrontin/codes/WEIS/examples/04_frequency_domain_analysis_design/outputs/11_ps_check/log_opt.sql_1\n"
     ]
    }
   ],
   "source": [
    "# run multiprocessing\n",
    "if post_multi:\n",
    "    cores = mp.cpu_count()\n",
    "    pool = mp.Pool(min(N_logs, cores))\n",
    "\n",
    "    # load sql file\n",
    "    outdata = pool.map(load_OMsql, doe_logs)\n",
    "    pool.close()\n",
    "    pool.join()\n",
    "# no multiprocessing\n",
    "else:\n",
    "    outdata = [load_OMsql(log) for log in doe_logs]\n",
    "\n",
    "collected_data = {}\n",
    "for data in outdata:\n",
    "    for key in data.keys():\n",
    "        if key not in collected_data.keys():\n",
    "            collected_data[key] = []\n",
    "\n",
    "        for key_idx, _ in enumerate(data[key]):\n",
    "            if isinstance(data[key][key_idx], int):\n",
    "                collected_data[key].append(np.array(data[key][key_idx]))\n",
    "            elif len(data[key][key_idx]) == 1:\n",
    "                try:\n",
    "                    collected_data[key].append(float(data[key][key_idx][0]))\n",
    "                except:\n",
    "                    collected_data[key].append(np.array(data[key][key_idx]))\n",
    "            else:\n",
    "                collected_data[key].append(np.array(data[key][key_idx]))"
   ]
  },
  {
   "cell_type": "code",
   "execution_count": 6,
   "id": "89d47540",
   "metadata": {},
   "outputs": [
    {
     "name": "stdout",
     "output_type": "stream",
     "text": [
      "Saved /Users/cfrontin/codes/WEIS/examples/04_frequency_domain_analysis_design/outputs/11_ps_check/nsga2_ps_outdata.csv\n"
     ]
    }
   ],
   "source": [
    "# get the problem variables\n",
    "with open(output_dir / \"problem_vars.yaml\", 'r') as f:\n",
    "    problem_vars = yaml.safe_load(f)\n",
    "obj_minimize = np.ones_like([v[0] for v in problem_vars[\"objectives\"]], dtype=bool)\n",
    "for i, v in enumerate([v[0] for v in problem_vars[\"objectives\"]]):\n",
    "    if \"AEP\" in v: obj_minimize[i] = False\n",
    "\n",
    "# convert to dataframe\n",
    "df = pd.DataFrame.from_dict(collected_data)\n",
    "\n",
    "# add pareto rankings\n",
    "df[\"pareto_rank_noconstraint\"] = nsga2_weis.algo.fast_nondom_sort.fast_nondom_sort_ranks(\n",
    "    df[[v[0] for v in problem_vars[\"objectives\"]]].to_numpy() * (2*obj_minimize - 1)\n",
    ")\n",
    "df[\"pareto_noconstraint\"] = df[\"pareto_rank_noconstraint\"] == 0\n",
    "\n",
    "# write to file\n",
    "outdata_fname = \"nsga2_ps_outdata\"\n",
    "outdata_fpath = output_dir / outdata_fname\n",
    "df.to_csv(outdata_fpath.with_suffix(\".csv\"), index=False)\n",
    "print(\"Saved {}\".format(outdata_fpath.with_suffix(\".csv\")))\n",
    "# FileTools.save_yaml(output_dir, outdata_fname + \".yaml\", collected_data, package=2)"
   ]
  },
  {
   "cell_type": "code",
   "execution_count": 7,
   "id": "e8945238",
   "metadata": {},
   "outputs": [
    {
     "data": {
      "text/plain": [
       "<seaborn.axisgrid.PairGrid at 0x16c12f950>"
      ]
     },
     "execution_count": 7,
     "metadata": {},
     "output_type": "execute_result"
    },
    {
     "data": {
      "image/png": "[encoded data removed]",
      "text/plain": [
       "<Figure size 650.861x500 with 6 Axes>"
      ]
     },
     "metadata": {},
     "output_type": "display_data"
    }
   ],
   "source": [
    "sns.pairplot(\n",
    "    df[[v[0] for v in problem_vars[\"objectives\"]] + [\n",
    "        \"pareto_noconstraint\",\n",
    "    ]].sort_values(\"pareto_noconstraint\"),\n",
    "    vars=[v[0] for v in problem_vars[\"objectives\"]],\n",
    "    hue=\"pareto_noconstraint\",\n",
    ")"
   ]
  },
  {
   "cell_type": "code",
   "execution_count": 8,
   "id": "26a884a8",
   "metadata": {},
   "outputs": [
    {
     "data": {
      "text/plain": [
       "<seaborn.axisgrid.PairGrid at 0x17b83eab0>"
      ]
     },
     "execution_count": 8,
     "metadata": {},
     "output_type": "execute_result"
    },
    {
     "data": {
      "image/png": "[encoded data removed]",
      "text/plain": [
       "<Figure size 650.861x500 with 6 Axes>"
      ]
     },
     "metadata": {},
     "output_type": "display_data"
    }
   ],
   "source": [
    "sns.pairplot(\n",
    "    (df[df.pareto_rank_noconstraint == 0])[[\n",
    "        v[0] for v in problem_vars[\"objectives\"]\n",
    "    ] + [\n",
    "        \"pareto_noconstraint\",\n",
    "    ]],\n",
    "    vars=[v[0] for v in problem_vars[\"objectives\"]],\n",
    "    hue=\"pareto_noconstraint\",\n",
    ")"
   ]
  },
  {
   "cell_type": "code",
   "execution_count": 9,
   "id": "c53e3fff",
   "metadata": {},
   "outputs": [
    {
     "data": {
      "application/vnd.plotly.v1+json": {
       "config": {
        "plotlyServerURL": "https://plot.ly"
       },
       "data": [
        {
         "diagonal": {
          "visible": false
         },
         "dimensions": [
          {
           "label": "floatingse.system_structural_mass",
           "values": [
            7443931.808580626,
            7271088.0451141475,
            7930032.086506485,
            7595546.072964548,
            7271086.726226233,
            7693923.16081953,
            7430376.267421098,
            7886630.715783175,
            7676423.031490601,
            7387020.065740792,
            7829758.273999859,
            7664406.021117129,
            7322603.146626167,
            8911903.30776095,
            7767456.249426423,
            7596055.237308996,
            7590364.272948205,
            7435930.302705624,
            7572054.581371743,
            7590462.476607834,
            8272631.725454257,
            7310984.46133388,
            7586480.816126701,
            7493133.686580511,
            7589900.818918862,
            7671450.657584677,
            7492132.246683216,
            7587724.464311833,
            7309572.079316776,
            7590699.958489862,
            7367549.439753191,
            7385018.208487634,
            7310052.404995892,
            8424610.165283378,
            8475324.046213597,
            7610616.983513388,
            7828782.178654703,
            7587230.45627263,
            7414564.197736822,
            7589237.620338959,
            7571533.967280247,
            7402198.7942716805,
            8160273.442356703,
            8548927.094759755,
            8114893.957867822,
            7455722.602914313,
            7309314.4746723315,
            8063881.092823182,
            8007828.945711214,
            7589528.084275735,
            8080561.955456162,
            7975102.339491291,
            7271063.815736159,
            8422014.019454133,
            8935259.599648872,
            8573464.978137927,
            7690858.083856504,
            7584056.58513262,
            7629941.549814184,
            8082993.724338353
           ]
          },
          {
           "label": "rotorse.rp.AEP",
           "values": [
            109687116.58500496,
            110453228.33073665,
            111417668.0982378,
            111378517.05286716,
            110451911.58638085,
            111416771.93589415,
            111369734.13058673,
            111415856.25294642,
            111408470.96835749,
            111290714.65902182,
            111416771.93589245,
            111387565.25249425,
            111228193.03641286,
            111417658.01401989,
            111415856.25294995,
            111416757.01703015,
            111378033.95918809,
            110961340.91182117,
            111416771.93588343,
            111413358.18109512,
            111416984.62992086,
            110894606.36509266,
            111378033.9591819,
            111413311.61962748,
            111378033.95918809,
            111414905.50562903,
            110945797.38236037,
            111378033.95925479,
            110890337.43978661,
            111416771.93587048,
            110890939.09802106,
            111369734.13055502,
            111250004.2830683,
            111417325.41234258,
            111417608.09845904,
            111378033.95919114,
            111416214.17594008,
            111378880.28608607,
            111230976.08217047,
            111377399.90108554,
            111378033.959222,
            110789641.01919888,
            111416532.62738745,
            111417357.2072618,
            111417467.84241512,
            110514310.61397256,
            110890337.41312914,
            111416532.62742163,
            111417604.32667586,
            111378033.95928843,
            111417667.52281682,
            111417666.86929101,
            110428846.28350058,
            111417006.70598054,
            111417563.79193193,
            111417475.884506,
            111411600.73515601,
            111377227.61138001,
            111378835.63764773,
            111417066.76775952
           ]
          }
         ],
         "marker": {
          "color": {
           "bdata": "IbByaJHt5D9oke18PzXmPyLb+X5qvOw/ZmZmZmZm7j/Sv9CFiDTmP8uhRbbz/ew/XACCuYSW7j/+94EqJxjtPxPWqzyfiO0/3ESMAqbr7z/LoUW28/3sP90Wga3rL+4/+hyQlpSD6T/Q9Vv5irjsP/73gSonGO0/An3zoAuC7D9x1B7FJ2nuP2Ygg2Bhy+c/y6FFtvP97D/6WXA2lkjtP84i9jhKiuw/5rm3aJqB5z9x1B7FJ2nuP9NNYhBYOew/cdQexSdp7j/qDQq1d1TsP4eLXc+/uec/cdQexSdp7j+wcmiR7XznP8uhRbbz/ew/6eKFK5V95z9cAIK5hJbuPxC1j2dZsOk/cPP499qZ7D8DHfDnrq/sP3HUHsUnae4/ow9Ey9Zx7D9KjGbQUWTuP+YrOFQhiek/Edvrg8Bs7j9x1B7FJ2nuP7TIdr6fGuc/ehSuR+F67D/O91PjpZvsP3e+nxov3ew//axtz1lX5j+wcmiR7XznP3oUrkfheuw/wuRS47TQ7D9x1B7FJ2nuP2qjvwbRw+w/Zqrkm7+77D/uJAPVIyjmP8B+zEPD9Ow/pOn4RzHV7D+sRQ+cmdzsP2h4DDSEIew/75hFurlt7j+oULk2uzfrP6hEu/uYjew/",
           "dtype": "f8"
          },
          "colorbar": {
           "len": 0.5,
           "thickness": 20,
           "title": {
            "text": "Peak shaving"
           }
          },
          "line": {
           "color": "white",
           "width": 0.5
          },
          "showscale": true
         },
         "text": {
          "bdata": "IbByaJHt5D9oke18PzXmPyLb+X5qvOw/ZmZmZmZm7j/Sv9CFiDTmP8uhRbbz/ew/XACCuYSW7j/+94EqJxjtPxPWqzyfiO0/3ESMAqbr7z/LoUW28/3sP90Wga3rL+4/+hyQlpSD6T/Q9Vv5irjsP/73gSonGO0/An3zoAuC7D9x1B7FJ2nuP2Ygg2Bhy+c/y6FFtvP97D/6WXA2lkjtP84i9jhKiuw/5rm3aJqB5z9x1B7FJ2nuP9NNYhBYOew/cdQexSdp7j/qDQq1d1TsP4eLXc+/uec/cdQexSdp7j+wcmiR7XznP8uhRbbz/ew/6eKFK5V95z9cAIK5hJbuPxC1j2dZsOk/cPP499qZ7D8DHfDnrq/sP3HUHsUnae4/ow9Ey9Zx7D9KjGbQUWTuP+YrOFQhiek/Edvrg8Bs7j9x1B7FJ2nuP7TIdr6fGuc/ehSuR+F67D/O91PjpZvsP3e+nxov3ew//axtz1lX5j+wcmiR7XznP3oUrkfheuw/wuRS47TQ7D9x1B7FJ2nuP2qjvwbRw+w/Zqrkm7+77D/uJAPVIyjmP8B+zEPD9Ow/pOn4RzHV7D+sRQ+cmdzsP2h4DDSEIew/75hFurlt7j+oULk2uzfrP6hEu/uYjew/",
          "dtype": "f8"
         },
         "type": "splom"
        }
       ],
       "layout": {
        "height": 600,
        "hovermode": "x",
        "hoversubplots": "axis",
        "template": {
         "data": {
          "bar": [
           {
            "error_x": {
             "color": "#2a3f5f"
            },
            "error_y": {
             "color": "#2a3f5f"
            },
            "marker": {
             "line": {
              "color": "#E5ECF6",
              "width": 0.5
             },
             "pattern": {
              "fillmode": "overlay",
              "size": 10,
              "solidity": 0.2
             }
            },
            "type": "bar"
           }
          ],
          "barpolar": [
           {
            "marker": {
             "line": {
              "color": "#E5ECF6",
              "width": 0.5
             },
             "pattern": {
              "fillmode": "overlay",
              "size": 10,
              "solidity": 0.2
             }
            },
            "type": "barpolar"
           }
          ],
          "carpet": [
           {
            "aaxis": {
             "endlinecolor": "#2a3f5f",
             "gridcolor": "white",
             "linecolor": "white",
             "minorgridcolor": "white",
             "startlinecolor": "#2a3f5f"
            },
            "baxis": {
             "endlinecolor": "#2a3f5f",
             "gridcolor": "white",
             "linecolor": "white",
             "minorgridcolor": "white",
             "startlinecolor": "#2a3f5f"
            },
            "type": "carpet"
           }
          ],
          "choropleth": [
           {
            "colorbar": {
             "outlinewidth": 0,
             "ticks": ""
            },
            "type": "choropleth"
           }
          ],
          "contour": [
           {
            "colorbar": {
             "outlinewidth": 0,
             "ticks": ""
            },
            "colorscale": [
             [
              0,
              "#0d0887"
             ],
             [
              0.1111111111111111,
              "#46039f"
             ],
             [
              0.2222222222222222,
              "#7201a8"
             ],
             [
              0.3333333333333333,
              "#9c179e"
             ],
             [
              0.4444444444444444,
              "#bd3786"
             ],
             [
              0.5555555555555556,
              "#d8576b"
             ],
             [
              0.6666666666666666,
              "#ed7953"
             ],
             [
              0.7777777777777778,
              "#fb9f3a"
             ],
             [
              0.8888888888888888,
              "#fdca26"
             ],
             [
              1,
              "#f0f921"
             ]
            ],
            "type": "contour"
           }
          ],
          "contourcarpet": [
           {
            "colorbar": {
             "outlinewidth": 0,
             "ticks": ""
            },
            "type": "contourcarpet"
           }
          ],
          "heatmap": [
           {
            "colorbar": {
             "outlinewidth": 0,
             "ticks": ""
            },
            "colorscale": [
             [
              0,
              "#0d0887"
             ],
             [
              0.1111111111111111,
              "#46039f"
             ],
             [
              0.2222222222222222,
              "#7201a8"
             ],
             [
              0.3333333333333333,
              "#9c179e"
             ],
             [
              0.4444444444444444,
              "#bd3786"
             ],
             [
              0.5555555555555556,
              "#d8576b"
             ],
             [
              0.6666666666666666,
              "#ed7953"
             ],
             [
              0.7777777777777778,
              "#fb9f3a"
             ],
             [
              0.8888888888888888,
              "#fdca26"
             ],
             [
              1,
              "#f0f921"
             ]
            ],
            "type": "heatmap"
           }
          ],
          "histogram": [
           {
            "marker": {
             "pattern": {
              "fillmode": "overlay",
              "size": 10,
              "solidity": 0.2
             }
            },
            "type": "histogram"
           }
          ],
          "histogram2d": [
           {
            "colorbar": {
             "outlinewidth": 0,
             "ticks": ""
            },
            "colorscale": [
             [
              0,
              "#0d0887"
             ],
             [
              0.1111111111111111,
              "#46039f"
             ],
             [
              0.2222222222222222,
              "#7201a8"
             ],
             [
              0.3333333333333333,
              "#9c179e"
             ],
             [
              0.4444444444444444,
              "#bd3786"
             ],
             [
              0.5555555555555556,
              "#d8576b"
             ],
             [
              0.6666666666666666,
              "#ed7953"
             ],
             [
              0.7777777777777778,
              "#fb9f3a"
             ],
             [
              0.8888888888888888,
              "#fdca26"
             ],
             [
              1,
              "#f0f921"
             ]
            ],
            "type": "histogram2d"
           }
          ],
          "histogram2dcontour": [
           {
            "colorbar": {
             "outlinewidth": 0,
             "ticks": ""
            },
            "colorscale": [
             [
              0,
              "#0d0887"
             ],
             [
              0.1111111111111111,
              "#46039f"
             ],
             [
              0.2222222222222222,
              "#7201a8"
             ],
             [
              0.3333333333333333,
              "#9c179e"
             ],
             [
              0.4444444444444444,
              "#bd3786"
             ],
             [
              0.5555555555555556,
              "#d8576b"
             ],
             [
              0.6666666666666666,
              "#ed7953"
             ],
             [
              0.7777777777777778,
              "#fb9f3a"
             ],
             [
              0.8888888888888888,
              "#fdca26"
             ],
             [
              1,
              "#f0f921"
             ]
            ],
            "type": "histogram2dcontour"
           }
          ],
          "mesh3d": [
           {
            "colorbar": {
             "outlinewidth": 0,
             "ticks": ""
            },
            "type": "mesh3d"
           }
          ],
          "parcoords": [
           {
            "line": {
             "colorbar": {
              "outlinewidth": 0,
              "ticks": ""
             }
            },
            "type": "parcoords"
           }
          ],
          "pie": [
           {
            "automargin": true,
            "type": "pie"
           }
          ],
          "scatter": [
           {
            "fillpattern": {
             "fillmode": "overlay",
             "size": 10,
             "solidity": 0.2
            },
            "type": "scatter"
           }
          ],
          "scatter3d": [
           {
            "line": {
             "colorbar": {
              "outlinewidth": 0,
              "ticks": ""
             }
            },
            "marker": {
             "colorbar": {
              "outlinewidth": 0,
              "ticks": ""
             }
            },
            "type": "scatter3d"
           }
          ],
          "scattercarpet": [
           {
            "marker": {
             "colorbar": {
              "outlinewidth": 0,
              "ticks": ""
             }
            },
            "type": "scattercarpet"
           }
          ],
          "scattergeo": [
           {
            "marker": {
             "colorbar": {
              "outlinewidth": 0,
              "ticks": ""
             }
            },
            "type": "scattergeo"
           }
          ],
          "scattergl": [
           {
            "marker": {
             "colorbar": {
              "outlinewidth": 0,
              "ticks": ""
             }
            },
            "type": "scattergl"
           }
          ],
          "scattermap": [
           {
            "marker": {
             "colorbar": {
              "outlinewidth": 0,
              "ticks": ""
             }
            },
            "type": "scattermap"
           }
          ],
          "scattermapbox": [
           {
            "marker": {
             "colorbar": {
              "outlinewidth": 0,
              "ticks": ""
             }
            },
            "type": "scattermapbox"
           }
          ],
          "scatterpolar": [
           {
            "marker": {
             "colorbar": {
              "outlinewidth": 0,
              "ticks": ""
             }
            },
            "type": "scatterpolar"
           }
          ],
          "scatterpolargl": [
           {
            "marker": {
             "colorbar": {
              "outlinewidth": 0,
              "ticks": ""
             }
            },
            "type": "scatterpolargl"
           }
          ],
          "scatterternary": [
           {
            "marker": {
             "colorbar": {
              "outlinewidth": 0,
              "ticks": ""
             }
            },
            "type": "scatterternary"
           }
          ],
          "surface": [
           {
            "colorbar": {
             "outlinewidth": 0,
             "ticks": ""
            },
            "colorscale": [
             [
              0,
              "#0d0887"
             ],
             [
              0.1111111111111111,
              "#46039f"
             ],
             [
              0.2222222222222222,
              "#7201a8"
             ],
             [
              0.3333333333333333,
              "#9c179e"
             ],
             [
              0.4444444444444444,
              "#bd3786"
             ],
             [
              0.5555555555555556,
              "#d8576b"
             ],
             [
              0.6666666666666666,
              "#ed7953"
             ],
             [
              0.7777777777777778,
              "#fb9f3a"
             ],
             [
              0.8888888888888888,
              "#fdca26"
             ],
             [
              1,
              "#f0f921"
             ]
            ],
            "type": "surface"
           }
          ],
          "table": [
           {
            "cells": {
             "fill": {
              "color": "#EBF0F8"
             },
             "line": {
              "color": "white"
             }
            },
            "header": {
             "fill": {
              "color": "#C8D4E3"
             },
             "line": {
              "color": "white"
             }
            },
            "type": "table"
           }
          ]
         },
         "layout": {
          "annotationdefaults": {
           "arrowcolor": "#2a3f5f",
           "arrowhead": 0,
           "arrowwidth": 1
          },
          "autotypenumbers": "strict",
          "coloraxis": {
           "colorbar": {
            "outlinewidth": 0,
            "ticks": ""
           }
          },
          "colorscale": {
           "diverging": [
            [
             0,
             "#8e0152"
            ],
            [
             0.1,
             "#c51b7d"
            ],
            [
             0.2,
             "#de77ae"
            ],
            [
             0.3,
             "#f1b6da"
            ],
            [
             0.4,
             "#fde0ef"
            ],
            [
             0.5,
             "#f7f7f7"
            ],
            [
             0.6,
             "#e6f5d0"
            ],
            [
             0.7,
             "#b8e186"
            ],
            [
             0.8,
             "#7fbc41"
            ],
            [
             0.9,
             "#4d9221"
            ],
            [
             1,
             "#276419"
            ]
           ],
           "sequential": [
            [
             0,
             "#0d0887"
            ],
            [
             0.1111111111111111,
             "#46039f"
            ],
            [
             0.2222222222222222,
             "#7201a8"
            ],
            [
             0.3333333333333333,
             "#9c179e"
            ],
            [
             0.4444444444444444,
             "#bd3786"
            ],
            [
             0.5555555555555556,
             "#d8576b"
            ],
            [
             0.6666666666666666,
             "#ed7953"
            ],
            [
             0.7777777777777778,
             "#fb9f3a"
            ],
            [
             0.8888888888888888,
             "#fdca26"
            ],
            [
             1,
             "#f0f921"
            ]
           ],
           "sequentialminus": [
            [
             0,
             "#0d0887"
            ],
            [
             0.1111111111111111,
             "#46039f"
            ],
            [
             0.2222222222222222,
             "#7201a8"
            ],
            [
             0.3333333333333333,
             "#9c179e"
            ],
            [
             0.4444444444444444,
             "#bd3786"
            ],
            [
             0.5555555555555556,
             "#d8576b"
            ],
            [
             0.6666666666666666,
             "#ed7953"
            ],
            [
             0.7777777777777778,
             "#fb9f3a"
            ],
            [
             0.8888888888888888,
             "#fdca26"
            ],
            [
             1,
             "#f0f921"
            ]
           ]
          },
          "colorway": [
           "#636efa",
           "#EF553B",
           "#00cc96",
           "#ab63fa",
           "#FFA15A",
           "#19d3f3",
           "#FF6692",
           "#B6E880",
           "#FF97FF",
           "#FECB52"
          ],
          "font": {
           "color": "#2a3f5f"
          },
          "geo": {
           "bgcolor": "white",
           "lakecolor": "white",
           "landcolor": "#E5ECF6",
           "showlakes": true,
           "showland": true,
           "subunitcolor": "white"
          },
          "hoverlabel": {
           "align": "left"
          },
          "hovermode": "closest",
          "mapbox": {
           "style": "light"
          },
          "paper_bgcolor": "white",
          "plot_bgcolor": "#E5ECF6",
          "polar": {
           "angularaxis": {
            "gridcolor": "white",
            "linecolor": "white",
            "ticks": ""
           },
           "bgcolor": "#E5ECF6",
           "radialaxis": {
            "gridcolor": "white",
            "linecolor": "white",
            "ticks": ""
           }
          },
          "scene": {
           "xaxis": {
            "backgroundcolor": "#E5ECF6",
            "gridcolor": "white",
            "gridwidth": 2,
            "linecolor": "white",
            "showbackground": true,
            "ticks": "",
            "zerolinecolor": "white"
           },
           "yaxis": {
            "backgroundcolor": "#E5ECF6",
            "gridcolor": "white",
            "gridwidth": 2,
            "linecolor": "white",
            "showbackground": true,
            "ticks": "",
            "zerolinecolor": "white"
           },
           "zaxis": {
            "backgroundcolor": "#E5ECF6",
            "gridcolor": "white",
            "gridwidth": 2,
            "linecolor": "white",
            "showbackground": true,
            "ticks": "",
            "zerolinecolor": "white"
           }
          },
          "shapedefaults": {
           "line": {
            "color": "#2a3f5f"
           }
          },
          "ternary": {
           "aaxis": {
            "gridcolor": "white",
            "linecolor": "white",
            "ticks": ""
           },
           "baxis": {
            "gridcolor": "white",
            "linecolor": "white",
            "ticks": ""
           },
           "bgcolor": "#E5ECF6",
           "caxis": {
            "gridcolor": "white",
            "linecolor": "white",
            "ticks": ""
           }
          },
          "title": {
           "x": 0.05
          },
          "xaxis": {
           "automargin": true,
           "gridcolor": "white",
           "linecolor": "white",
           "ticks": "",
           "title": {
            "standoff": 15
           },
           "zerolinecolor": "white",
           "zerolinewidth": 2
          },
          "yaxis": {
           "automargin": true,
           "gridcolor": "white",
           "linecolor": "white",
           "ticks": "",
           "title": {
            "standoff": 15
           },
           "zerolinecolor": "white",
           "zerolinewidth": 2
          }
         }
        },
        "title": {
         "text": "Pareto front"
        },
        "width": 600
       }
      }
     },
     "metadata": {},
     "output_type": "display_data"
    }
   ],
   "source": [
    "import plotly.graph_objects as go\n",
    "\n",
    "# dfw = df\n",
    "dfw = df[df.pareto_rank_noconstraint < 5]\n",
    "\n",
    "fig = go.Figure(\n",
    "    data=go.Splom(\n",
    "        dimensions=[\n",
    "            {\"label\": k, \"values\": v} for k, v in dfw[[\n",
    "                v[0] for v in problem_vars[\"objectives\"]\n",
    "            ] + [\n",
    "                # \"tune_rosco_ivc.ps_percent\"\n",
    "            ]].to_dict(orient=\"list\").items()\n",
    "        ],\n",
    "        # showupperhalf=False,\n",
    "        diagonal_visible=False,\n",
    "        text=dfw[\"tune_rosco_ivc.ps_percent\"],\n",
    "        marker={\n",
    "            \"color\": dfw[\"tune_rosco_ivc.ps_percent\"],\n",
    "            # \"color\": df.pareto_rank_noconstraint,\n",
    "            \"showscale\": False,\n",
    "            \"line_color\": \"white\",\n",
    "            \"line_width\": 0.5,\n",
    "        }\n",
    "    )\n",
    ")\n",
    "\n",
    "fig.update_traces(\n",
    "    marker=dict(\n",
    "        showscale=True,\n",
    "        colorbar=dict(\n",
    "            title=\"Peak shaving\",\n",
    "            thickness=20,\n",
    "            len=0.5\n",
    "        )\n",
    "    ),\n",
    "    selector=dict(type='splom')\n",
    ")\n",
    "\n",
    "fig.update_layout(\n",
    "    title=dict(text=\"Pareto front\"),\n",
    "    hoversubplots=\"axis\",\n",
    "    width=600,\n",
    "    height=600,\n",
    "    hovermode=\"x\",\n",
    ")\n"
   ]
  },
  {
   "cell_type": "code",
   "execution_count": null,
   "id": "ae232595",
   "metadata": {},
   "outputs": [],
   "source": []
  },
  {
   "cell_type": "code",
   "execution_count": null,
   "id": "344171ed",
   "metadata": {},
   "outputs": [],
   "source": []
  }
 ],
 "metadata": {
  "kernelspec": {
   "display_name": "weis-sgre-env",
   "language": "python",
   "name": "python3"
  },
  "language_info": {
   "codemirror_mode": {
    "name": "ipython",
    "version": 3
   },
   "file_extension": ".py",
   "mimetype": "text/x-python",
   "name": "python",
   "nbconvert_exporter": "python",
   "pygments_lexer": "ipython3",
   "version": "3.12.11"
  }
 },
 "nbformat": 4,
 "nbformat_minor": 5
}

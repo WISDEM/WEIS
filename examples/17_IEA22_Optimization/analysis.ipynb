{
 "cells": [
  {
   "cell_type": "code",
   "execution_count": 1,
   "metadata": {},
   "outputs": [
    {
     "ename": "",
     "evalue": "",
     "output_type": "error",
     "traceback": [
      "\u001b[1;31mThe Kernel crashed while executing code in the current cell or a previous cell. \n",
      "\u001b[1;31mPlease review the code in the cell(s) to identify a possible cause of the failure. \n",
      "\u001b[1;31mClick <a href='https://aka.ms/vscodeJupyterKernelCrash'>here</a> for more info. \n",
      "\u001b[1;31mView Jupyter <a href='command:jupyter.viewOutput'>log</a> for further details."
     ]
    }
   ],
   "source": [
    "import json\n",
    "import os\n",
    "\n",
    "import pprint as pp\n",
    "\n",
    "import numpy as np\n",
    "import pandas as pd\n",
    "\n",
    "import openmdao.api as om\n",
    "\n",
    "import matplotlib.pyplot as plt\n",
    "import tools_cvf\n",
    "\n",
    "plt.style.use(tools_cvf.get_stylesheets(dark=True))\n",
    "\n",
    "from viz_toolbox import load_OMsql"
   ]
  },
  {
   "cell_type": "code",
   "execution_count": null,
   "metadata": {},
   "outputs": [
    {
     "ename": "",
     "evalue": "",
     "output_type": "error",
     "traceback": [
      "\u001b[1;31mnotebook controller is DISPOSED. \n",
      "\u001b[1;31mView Jupyter <a href='command:jupyter.viewOutput'>log</a> for further details."
     ]
    }
   ],
   "source": [
    "%cd ~/codes/WEIS/examples/17_IEA22_Optimization"
   ]
  },
  {
   "cell_type": "code",
   "execution_count": null,
   "metadata": {},
   "outputs": [],
   "source": [
    "# # This function loads the openmdao sql file and does most of the work here\n",
    "# def load_OMsql(log):\n",
    "#     print('loading {}'.format(log))\n",
    "#     cr = om.CaseReader(log)\n",
    "#     rec_data = {}\n",
    "#     # driver_cases = cr.list_cases('driver')\n",
    "#     cases = cr.get_cases('driver')\n",
    "#     for case in cases:\n",
    "#         for key in case.outputs.keys():\n",
    "#             if key not in rec_data:\n",
    "#                 rec_data[key] = []\n",
    "#             rec_data[key].append(case[key])\n",
    "#     return rec_data"
   ]
  },
  {
   "cell_type": "code",
   "execution_count": null,
   "metadata": {},
   "outputs": [],
   "source": [
    "dir_template = \"32_DesignRound1_%s\"\n",
    "\n",
    "dir_COBYLA = dir_template % \"COBYLA\"\n",
    "dir_SLSQP = dir_template % \"SLSQP\"\n",
    "\n",
    "fn_log_COBYLA = os.path.join(dir_COBYLA, \"log_opt.sql\")\n",
    "fn_log_SLSQP = os.path.join(dir_SLSQP, \"log_opt.sql\")"
   ]
  },
  {
   "cell_type": "code",
   "execution_count": null,
   "metadata": {},
   "outputs": [],
   "source": [
    "fn_vars_COBYLA = os.path.join(dir_COBYLA, \"problem_vars.json\")\n",
    "fn_vars_SLSQP = os.path.join(dir_SLSQP, \"problem_vars.json\")\n",
    "\n",
    "with open(fn_vars_COBYLA, \"r\") as fjson_COBYLA:\n",
    "  vars_COBYLA = {k: dict(v) for k, v in json.load(fjson_COBYLA).items()}\n",
    "with open(fn_vars_SLSQP, \"r\") as fjson_SLSQP:\n",
    "  vars_SLSQP = {k: dict(v) for k, v in json.load(fjson_SLSQP).items()}\n",
    "\n",
    "for k0 in set(vars_COBYLA.keys()).union(vars_SLSQP):\n",
    "  assert k0 in vars_COBYLA\n",
    "  assert k0 in vars_SLSQP\n",
    "  for k1 in set(vars_COBYLA[k0].keys()).union(vars_SLSQP[k0].keys()):\n",
    "    assert k1 in vars_COBYLA[k0]\n",
    "    assert k1 in vars_SLSQP[k0]\n",
    "    for k2 in set(vars_COBYLA[k0][k1].keys()).union(vars_SLSQP[k0][k1].keys()):\n",
    "      assert k2 in vars_COBYLA[k0][k1]\n",
    "      assert k2 in vars_SLSQP[k0][k1]\n",
    "      if k2 == \"val\": continue\n",
    "      if isinstance(vars_COBYLA[k0][k1][k2], str):\n",
    "        assert vars_COBYLA[k0][k1][k2] == vars_SLSQP[k0][k1][k2]\n",
    "      elif vars_COBYLA[k0][k1][k2] is not None:\n",
    "        assert np.all(np.isclose(vars_COBYLA[k0][k1][k2], vars_SLSQP[k0][k1][k2]))\n",
    "      else:\n",
    "        assert (vars_COBYLA[k0][k1][k2] is None) and (vars_SLSQP[k0][k1][k2] is None)\n",
    "\n",
    "vars_unified = vars_COBYLA.copy()\n",
    "for k0 in vars_unified.keys():\n",
    "  for k1 in vars_unified[k0].keys():\n",
    "    if (vars_unified[k0][k1].get(\"lower\") is not None) and (vars_unified[k0][k1].get(\"lower\") < -1e+28):\n",
    "      vars_unified[k0][k1][\"lower\"] = -np.inf\n",
    "    if (vars_unified[k0][k1].get(\"upper\") is not None) and (vars_unified[k0][k1].get(\"upper\") > 1e+28):\n",
    "      vars_unified[k0][k1][\"upper\"] = np.inf"
   ]
  },
  {
   "cell_type": "code",
   "execution_count": null,
   "metadata": {},
   "outputs": [],
   "source": [
    "vars_unified.keys()"
   ]
  },
  {
   "cell_type": "code",
   "execution_count": null,
   "metadata": {},
   "outputs": [],
   "source": [
    "dataOM_COBYLA = load_OMsql(fn_log_COBYLA)\n",
    "dataOM_SLSQP = load_OMsql(fn_log_SLSQP)\n",
    "print()\n",
    "if len(set(dataOM_COBYLA).difference(dataOM_SLSQP)):\n",
    "  print(\"the following keys are only in COBYLA:\")\n",
    "for key_m in set(dataOM_COBYLA).difference(dataOM_SLSQP):\n",
    "  print(f\"\\t{key_m}\")\n",
    "if len(set(dataOM_SLSQP).difference(dataOM_COBYLA)):\n",
    "  print(\"the following keys are only in SLSQP:\")\n",
    "for key_m in set(dataOM_SLSQP).difference(dataOM_COBYLA):\n",
    "  print(f\"\\t{key_m}\")\n",
    "keys_all = set(dataOM_COBYLA).intersection(dataOM_SLSQP)\n",
    "print(\"the following keys are in both:\")\n",
    "for key_m in keys_all:\n",
    "  print(f\"\\t{key_m}\")\n",
    "print()\n",
    "# dataOM_working = load_OMsql(\"32_DesignRound1/log_opt.sql\")\n",
    "# keys_all = set(dataOM_working)\n",
    "\n",
    "keys_obj = [v[\"name\"] for k, v in vars_unified[\"objectives\"].items()]\n",
    "keys_DV = [v[\"name\"] for k, v in vars_unified[\"design_vars\"].items()]\n",
    "keys_constr = {v[\"name\"]: [v[\"lower\"], v[\"upper\"]] for k, v in vars_unified[\"constraints\"].items()}\n",
    "\n",
    "print()\n",
    "[\n",
    "  print(\n",
    "    f\"** {key}\" if key in keys_obj\n",
    "      else f\"-- {key}\" if key in keys_DV\n",
    "      else f\"<> {key}\" if key in keys_constr\n",
    "      else f\"?? {key}\"\n",
    "  ) for key in keys_all\n",
    "]\n",
    "print()"
   ]
  },
  {
   "cell_type": "code",
   "execution_count": null,
   "metadata": {},
   "outputs": [],
   "source": [
    "def get_feasible_iterations(dataOM, vars_dict):\n",
    "    feasibility_constraintwise = dict()\n",
    "    total_feasibility = np.ones_like(dataOM[next(iter(vars_COBYLA[\"objectives\"].values()))[\"name\"]], dtype=bool)\n",
    "    for k, v in vars_dict[\"constraints\"].items():\n",
    "        feasibility = np.ones_like(dataOM[next(iter(vars_COBYLA[\"objectives\"].values()))[\"name\"]], dtype=bool)\n",
    "        values = np.array(dataOM[v[\"name\"]]).reshape(feasibility.shape[0], -1)\n",
    "        # print(\"feasibility shape:\", feasibility.shape)\n",
    "        # print(\"values shape:\", values.shape)\n",
    "        # print(\"all shape:\", np.all(values <= v[\"upper\"], axis=1).reshape(-1,1).shape)\n",
    "        # print(\"and shape:\", np.logical_and(feasibility, np.all(values <= v[\"upper\"], axis=1).reshape(-1,1)).shape)\n",
    "        if v.get(\"upper\") is not None:\n",
    "            feasibility = np.logical_and(feasibility, np.all(values <= v[\"upper\"], axis=1).reshape(-1,1))\n",
    "        if v.get(\"lower\") is not None:\n",
    "            feasibility = np.logical_and(feasibility, np.all(values >= v[\"lower\"], axis=1).reshape(-1,1))\n",
    "        feasibility_constraintwise[k] = feasibility\n",
    "        total_feasibility = np.logical_and(total_feasibility, feasibility)\n",
    "    return total_feasibility, feasibility_constraintwise\n",
    "\n",
    "tfeas, data = get_feasible_iterations(dataOM_COBYLA, vars_COBYLA)\n",
    "plt.plot(tfeas)\n",
    "tfeas, data = get_feasible_iterations(dataOM_SLSQP, vars_SLSQP)\n",
    "plt.plot(tfeas)"
   ]
  },
  {
   "cell_type": "code",
   "execution_count": null,
   "metadata": {},
   "outputs": [],
   "source": [
    "def plot_conv(keyset_in):\n",
    "    if len(keyset_in) == 0: return\n",
    "\n",
    "    fig, axes = plt.subplots(\n",
    "        len(keyset_in), 1,\n",
    "        sharex=True, figsize=(6,0.60*4*len(keyset_in)), squeeze=False,\n",
    "    dpi=150,\n",
    "    )\n",
    "\n",
    "    has_ref_vals = type(keyset_in) == dict\n",
    "\n",
    "    if has_ref_vals:\n",
    "        key_val_map = keyset_in\n",
    "        keyset = keyset_in.keys()\n",
    "    else:\n",
    "        keyset = keyset_in\n",
    "\n",
    "    for imethod, method in enumerate([\"COBYLA\", \"SLSQP\"]):\n",
    "        axes[0, 0].plot(\n",
    "            [], [],\n",
    "            \"w\"+(\".-\" if method == \"COBYLA\" else \"*-\" if method == \"SLSQP\" else \"x-\"),\n",
    "            label=method,\n",
    "        )\n",
    "        dataOM = dataOM_COBYLA if method == \"COBYLA\" else (dataOM_SLSQP if method == \"SLSQP\" else None)\n",
    "        vars = vars_COBYLA if method == \"COBYLA\" else (vars_SLSQP if method == \"SLSQP\" else None)\n",
    "        tfeas, _ = get_feasible_iterations(dataOM, vars)\n",
    "        # print(sum(tfeas), len(tfeas))\n",
    "        for idx_ax, key in enumerate(keyset):\n",
    "            pt0 = axes[idx_ax, 0].plot(\n",
    "                np.squeeze(dataOM[key]), \"-\", label=\"\".join([\"_\", method, \"_\"]),\n",
    "            )\n",
    "            # print(np.array(dataOM[key]).shape, (tfeas*np.ones((1, np.array(dataOM[key]).shape[1]))).shape)\n",
    "            axes[idx_ax, 0].plot(\n",
    "                np.ma.array(dataOM[key], mask=~(tfeas*np.ones((1, np.array(dataOM[key]).shape[1]), dtype=bool))),\n",
    "                \"o\" if method == \"COBYLA\" else \"p\" if method == \"SLSQP\" else \"x\",\n",
    "                label=\"\".join([\"_\", method, \"_\"]),\n",
    "                color=pt0[-1].get_color(),\n",
    "                fillstyle=\"full\"\n",
    "            )\n",
    "            axes[idx_ax, 0].plot(\n",
    "                np.ma.array(dataOM[key], mask=(tfeas*np.ones((1, np.array(dataOM[key]).shape[1]), dtype=bool))),\n",
    "                \"o\" if method == \"COBYLA\" else \"p\" if method == \"SLSQP\" else \"x\",\n",
    "                label=\"\".join([\"_\", method, \"_\"]),\n",
    "                color=pt0[-1].get_color(),\n",
    "                fillstyle=\"none\"\n",
    "            )\n",
    "            if has_ref_vals and (imethod == 0):\n",
    "                cval = key_val_map[key]\n",
    "                if cval[0] is not None: axes[idx_ax, 0].plot([0, len(dataOM[key])], [cval[0], cval[0]], \"b:\", label=\"_lower bound_\")\n",
    "                if cval[1] is not None: axes[idx_ax, 0].plot([0, len(dataOM[key])], [cval[1], cval[1]], \"r:\", label=\"_upper bound_\")\n",
    "            axes[idx_ax, 0].set_title(key)\n",
    "\n",
    "    if has_ref_vals:\n",
    "        axes[0, 0].plot([], [], \"b:\", label=\"lower bound\")\n",
    "        axes[0, 0].plot([], [], \"r:\", label=\"upper bound\")\n",
    "    axes[0, 0].legend()\n",
    "    fig.tight_layout()"
   ]
  },
  {
   "cell_type": "code",
   "execution_count": null,
   "metadata": {},
   "outputs": [],
   "source": [
    "plot_conv(keys_obj)"
   ]
  },
  {
   "cell_type": "code",
   "execution_count": null,
   "metadata": {},
   "outputs": [],
   "source": [
    "plot_conv(keys_DV)"
   ]
  },
  {
   "cell_type": "code",
   "execution_count": null,
   "metadata": {},
   "outputs": [],
   "source": [
    "plot_conv(keys_constr)"
   ]
  },
  {
   "cell_type": "code",
   "execution_count": null,
   "metadata": {},
   "outputs": [],
   "source": []
  },
  {
   "cell_type": "code",
   "execution_count": null,
   "metadata": {},
   "outputs": [],
   "source": []
  },
  {
   "cell_type": "code",
   "execution_count": null,
   "metadata": {},
   "outputs": [],
   "source": []
  }
 ],
 "metadata": {
  "kernelspec": {
   "display_name": "Python 3 (ipykernel)",
   "language": "python",
   "name": "python3"
  },
  "language_info": {
   "codemirror_mode": {
    "name": "ipython",
    "version": 3
   },
   "file_extension": ".py",
   "mimetype": "text/x-python",
   "name": "python",
   "nbconvert_exporter": "python",
   "pygments_lexer": "ipython3",
   "version": "3.11.8"
  }
 },
 "nbformat": 4,
 "nbformat_minor": 4
}

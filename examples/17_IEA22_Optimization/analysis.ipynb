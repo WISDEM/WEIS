{
 "cells": [
  {
   "cell_type": "code",
   "execution_count": 1,
   "metadata": {},
   "outputs": [],
   "source": [
    "import os\n",
    "\n",
    "# import matplotlib.pyplot as plt\n",
    "\n",
    "# import tools_cvf\n",
    "# plt.style.use(tools_cvf.get_stylesheets(dark=True))\n",
    "\n",
    "import viz_toolbox"
   ]
  },
  {
   "cell_type": "code",
   "execution_count": 2,
   "metadata": {},
   "outputs": [
    {
     "name": "stdout",
     "output_type": "stream",
     "text": [
      "/Users/cfrontin/codes/WEIS/examples/17_IEA22_Optimization\n"
     ]
    }
   ],
   "source": [
    "%cd ~/codes/WEIS/examples/17_IEA22_Optimization"
   ]
  },
  {
   "cell_type": "code",
   "execution_count": 3,
   "metadata": {},
   "outputs": [
    {
     "ename": "NameError",
     "evalue": "name 'os' is not defined",
     "output_type": "error",
     "traceback": [
      "\u001b[0;31m---------------------------------------------------------------------------\u001b[0m",
      "\u001b[0;31mNameError\u001b[0m                                 Traceback (most recent call last)",
      "Cell \u001b[0;32mIn[3], line 7\u001b[0m\n\u001b[1;32m      4\u001b[0m dir_SLSQP \u001b[38;5;241m=\u001b[39m dir_template \u001b[38;5;241m%\u001b[39m \u001b[38;5;124m\"\u001b[39m\u001b[38;5;124mSLSQP\u001b[39m\u001b[38;5;124m\"\u001b[39m\n\u001b[1;32m      6\u001b[0m \u001b[38;5;66;03m# OM log db files\u001b[39;00m\n\u001b[0;32m----> 7\u001b[0m fn_log_COBYLA \u001b[38;5;241m=\u001b[39m \u001b[43mos\u001b[49m\u001b[38;5;241m.\u001b[39mpath\u001b[38;5;241m.\u001b[39mjoin(dir_COBYLA, \u001b[38;5;124m\"\u001b[39m\u001b[38;5;124mlog_opt.sql\u001b[39m\u001b[38;5;124m\"\u001b[39m)\n\u001b[1;32m      8\u001b[0m fn_log_SLSQP \u001b[38;5;241m=\u001b[39m os\u001b[38;5;241m.\u001b[39mpath\u001b[38;5;241m.\u001b[39mjoin(dir_SLSQP, \u001b[38;5;124m\"\u001b[39m\u001b[38;5;124mlog_opt.sql\u001b[39m\u001b[38;5;124m\"\u001b[39m)\n\u001b[1;32m     10\u001b[0m \u001b[38;5;66;03m# WEIS stashes design/constraint/objective var files located here\u001b[39;00m\n",
      "\u001b[0;31mNameError\u001b[0m: name 'os' is not defined"
     ]
    }
   ],
   "source": [
    "# output dirs based on template for ex. 17\n",
    "dir_template = \"32_DesignRound1_%s\"\n",
    "dir_COBYLA = dir_template % \"COBYLA\"\n",
    "dir_SLSQP = dir_template % \"SLSQP\"\n",
    "\n",
    "# OM log db files\n",
    "fn_log_COBYLA = os.path.join(dir_COBYLA, \"log_opt.sql\")\n",
    "fn_log_SLSQP = os.path.join(dir_SLSQP, \"log_opt.sql\")\n",
    "\n",
    "# WEIS stashes design/constraint/objective var files located here\n",
    "fn_vars_COBYLA = os.path.join(dir_COBYLA, \"problem_vars.json\")\n",
    "fn_vars_SLSQP = os.path.join(dir_SLSQP, \"problem_vars.json\")"
   ]
  },
  {
   "cell_type": "code",
   "execution_count": null,
   "metadata": {},
   "outputs": [],
   "source": [
    "# ... load them\n",
    "vars_COBYLA = viz_toolbox.load_vars_file(fn_vars_COBYLA)\n",
    "vars_SLSQP = viz_toolbox.load_vars_file(fn_vars_SLSQP)\n",
    "# this call verifies, (optionally) unifies, and corrects the var files\n",
    "vars_unified = viz_toolbox.verify_vars(vars_COBYLA, vars_SLSQP)"
   ]
  },
  {
   "cell_type": "code",
   "execution_count": null,
   "metadata": {},
   "outputs": [],
   "source": [
    "# load the data from the OM DB\n",
    "dataOM_COBYLA = viz_toolbox.load_OMsql(fn_log_COBYLA)\n",
    "dataOM_SLSQP = viz_toolbox.load_OMsql(fn_log_SLSQP)\n",
    "\n",
    "# describe the keys that have been found\n",
    "print()\n",
    "keys_all, _, _ = viz_toolbox.compare_om_data(\n",
    "  dataOM_COBYLA,\n",
    "  dataOM_SLSQP,\n",
    "  \"COBYLA\", \"SLSQP\",\n",
    "  verbose=True,\n",
    ")\n",
    "print()\n",
    "\n",
    "# grab the keys that we have in the unified vars\n",
    "keys_obj = [v[\"name\"] for k, v in vars_unified[\"objectives\"].items()]\n",
    "keys_DV = [v[\"name\"] for k, v in vars_unified[\"design_vars\"].items()]\n",
    "keys_constr = {v[\"name\"]: [v[\"lower\"], v[\"upper\"]] for k, v in vars_unified[\"constraints\"].items()}\n",
    "\n",
    "viz_toolbox.prettyprint_variables(keys_all, keys_obj, keys_DV, keys_constr)"
   ]
  },
  {
   "cell_type": "code",
   "execution_count": null,
   "metadata": {},
   "outputs": [],
   "source": [
    "viz_toolbox.plot_conv(\n",
    "  keys_obj,\n",
    "  {\n",
    "    \"COBYLA\": (dataOM_COBYLA, vars_COBYLA),\n",
    "    \"SLSQP\": (dataOM_SLSQP, vars_SLSQP),\n",
    "  },\n",
    ") ;"
   ]
  },
  {
   "cell_type": "markdown",
   "metadata": {},
   "source": []
  },
  {
   "cell_type": "code",
   "execution_count": null,
   "metadata": {},
   "outputs": [],
   "source": [
    "viz_toolbox.plot_conv(\n",
    "  keys_DV,\n",
    "  {\n",
    "    \"COBYLA\": (dataOM_COBYLA, vars_COBYLA),\n",
    "    \"SLSQP\": (dataOM_SLSQP, vars_SLSQP),\n",
    "  },\n",
    ") ;"
   ]
  },
  {
   "cell_type": "code",
   "execution_count": null,
   "metadata": {},
   "outputs": [],
   "source": [
    "viz_toolbox.plot_conv(\n",
    "  keys_constr,\n",
    "  {\n",
    "    \"COBYLA\": (dataOM_COBYLA, vars_COBYLA),\n",
    "    \"SLSQP\": (dataOM_SLSQP, vars_SLSQP),\n",
    "  },\n",
    "  use_casewise_feasibility=True,\n",
    ") ;"
   ]
  },
  {
   "cell_type": "code",
   "execution_count": null,
   "metadata": {},
   "outputs": [],
   "source": []
  },
  {
   "cell_type": "code",
   "execution_count": null,
   "metadata": {},
   "outputs": [],
   "source": []
  },
  {
   "cell_type": "code",
   "execution_count": null,
   "metadata": {},
   "outputs": [],
   "source": []
  },
  {
   "cell_type": "code",
   "execution_count": null,
   "metadata": {},
   "outputs": [],
   "source": []
  }
 ],
 "metadata": {
  "kernelspec": {
   "display_name": "Python 3 (ipykernel)",
   "language": "python",
   "name": "python3"
  },
  "language_info": {
   "codemirror_mode": {
    "name": "ipython",
    "version": 3
   },
   "file_extension": ".py",
   "mimetype": "text/x-python",
   "name": "python",
   "nbconvert_exporter": "python",
   "pygments_lexer": "ipython3",
   "version": "3.11.8"
  }
 },
 "nbformat": 4,
 "nbformat_minor": 4
}

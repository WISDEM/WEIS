{
 "cells": [
  {
   "cell_type": "code",
   "execution_count": 1,
   "metadata": {},
   "outputs": [
    {
     "ename": "ImportError",
     "evalue": "dlopen(/Users/cfrontin/miniforge3/envs/weis-env/lib/python3.11/lib-dynload/_ssl.cpython-311-darwin.so, 0x0002): Library not loaded: @rpath/libssl.3.dylib\n  Referenced from: <BCAFB915-7225-32ED-8C68-D3670163E858> /Users/cfrontin/miniforge3/envs/weis-env/lib/python3.11/lib-dynload/_ssl.cpython-311-darwin.so\n  Reason: tried: '/Users/cfrontin/miniforge3/envs/weis-env/lib/python3.11/lib-dynload/../../libssl.3.dylib' (mach-o file, but is an incompatible architecture (have 'arm64', need 'x86_64')), '/Users/cfrontin/miniforge3/envs/weis-env/lib/python3.11/lib-dynload/../../libssl.3.dylib' (mach-o file, but is an incompatible architecture (have 'arm64', need 'x86_64')), '/Users/cfrontin/miniforge3/envs/weis-env/bin/../lib/libssl.3.dylib' (mach-o file, but is an incompatible architecture (have 'arm64', need 'x86_64')), '/Users/cfrontin/miniforge3/envs/weis-env/bin/../lib/libssl.3.dylib' (mach-o file, but is an incompatible architecture (have 'arm64', need 'x86_64')), '/usr/local/lib/libssl.3.dylib' (no such file), '/usr/lib/libssl.3.dylib' (no such file, not in dyld cache)",
     "output_type": "error",
     "traceback": [
      "\u001b[0;31m---------------------------------------------------------------------------\u001b[0m",
      "\u001b[0;31mImportError\u001b[0m                               Traceback (most recent call last)",
      "Cell \u001b[0;32mIn[1], line 8\u001b[0m\n\u001b[1;32m      5\u001b[0m \u001b[38;5;28;01mimport\u001b[39;00m \u001b[38;5;21;01mseaborn\u001b[39;00m \u001b[38;5;28;01mas\u001b[39;00m \u001b[38;5;21;01msns\u001b[39;00m\n\u001b[1;32m      6\u001b[0m \u001b[38;5;28;01mimport\u001b[39;00m \u001b[38;5;21;01mmatplotlib\u001b[39;00m\u001b[38;5;21;01m.\u001b[39;00m\u001b[38;5;21;01mpyplot\u001b[39;00m \u001b[38;5;28;01mas\u001b[39;00m \u001b[38;5;21;01mplt\u001b[39;00m\n\u001b[0;32m----> 8\u001b[0m \u001b[43mplt\u001b[49m\u001b[38;5;241;43m.\u001b[39;49m\u001b[43mstyle\u001b[49m\u001b[38;5;241;43m.\u001b[39;49m\u001b[43muse\u001b[49m\u001b[43m(\u001b[49m\u001b[43m[\u001b[49m\n\u001b[1;32m      9\u001b[0m \u001b[43m  \u001b[49m\u001b[38;5;124;43m\"\u001b[39;49m\u001b[38;5;124;43mdark_background\u001b[39;49m\u001b[38;5;124;43m\"\u001b[39;49m\u001b[43m,\u001b[49m\n\u001b[1;32m     10\u001b[0m \u001b[43m  \u001b[49m\u001b[38;5;124;43m\"\u001b[39;49m\u001b[38;5;124;43mhttps://raw.githubusercontent.com/cfrontin/tools_cvf/main/tools_cvf/stylesheet_cvf.mplstyle\u001b[39;49m\u001b[38;5;124;43m\"\u001b[39;49m\u001b[43m,\u001b[49m\n\u001b[1;32m     11\u001b[0m \u001b[43m  \u001b[49m\u001b[38;5;124;43m\"\u001b[39;49m\u001b[38;5;124;43mhttps://raw.githubusercontent.com/cfrontin/tools_cvf/main/tools_cvf/stylesheet_nrel.mplstyle\u001b[39;49m\u001b[38;5;124;43m\"\u001b[39;49m\u001b[43m,\u001b[49m\n\u001b[1;32m     12\u001b[0m \u001b[43m]\u001b[49m\u001b[43m)\u001b[49m\n\u001b[1;32m     14\u001b[0m \u001b[38;5;28;01mimport\u001b[39;00m \u001b[38;5;21;01mweis\u001b[39;00m\u001b[38;5;21;01m.\u001b[39;00m\u001b[38;5;21;01mvisualization\u001b[39;00m\u001b[38;5;21;01m.\u001b[39;00m\u001b[38;5;21;01mutils\u001b[39;00m \u001b[38;5;28;01mas\u001b[39;00m \u001b[38;5;21;01mviz_toolbox\u001b[39;00m\n\u001b[1;32m     15\u001b[0m \u001b[38;5;28;01mimport\u001b[39;00m \u001b[38;5;21;01mweis\u001b[39;00m\u001b[38;5;21;01m.\u001b[39;00m\u001b[38;5;21;01mvisualization\u001b[39;00m\u001b[38;5;21;01m.\u001b[39;00m\u001b[38;5;21;01mopt_plotting\u001b[39;00m \u001b[38;5;28;01mas\u001b[39;00m \u001b[38;5;21;01mopt_plotting\u001b[39;00m\n",
      "File \u001b[0;32m~/miniforge3/envs/weis-env/lib/python3.11/site-packages/matplotlib/style/core.py:137\u001b[0m, in \u001b[0;36muse\u001b[0;34m(style)\u001b[0m\n\u001b[1;32m    135\u001b[0m \u001b[38;5;28;01mif\u001b[39;00m \u001b[38;5;28misinstance\u001b[39m(style, (\u001b[38;5;28mstr\u001b[39m, Path)):\n\u001b[1;32m    136\u001b[0m     \u001b[38;5;28;01mtry\u001b[39;00m:\n\u001b[0;32m--> 137\u001b[0m         style \u001b[38;5;241m=\u001b[39m \u001b[43m_rc_params_in_file\u001b[49m\u001b[43m(\u001b[49m\u001b[43mstyle\u001b[49m\u001b[43m)\u001b[49m\n\u001b[1;32m    138\u001b[0m     \u001b[38;5;28;01mexcept\u001b[39;00m \u001b[38;5;167;01mOSError\u001b[39;00m \u001b[38;5;28;01mas\u001b[39;00m err:\n\u001b[1;32m    139\u001b[0m         \u001b[38;5;28;01mraise\u001b[39;00m \u001b[38;5;167;01mOSError\u001b[39;00m(\n\u001b[1;32m    140\u001b[0m             \u001b[38;5;124mf\u001b[39m\u001b[38;5;124m\"\u001b[39m\u001b[38;5;132;01m{\u001b[39;00mstyle\u001b[38;5;132;01m!r}\u001b[39;00m\u001b[38;5;124m is not a valid package style, path of style \u001b[39m\u001b[38;5;124m\"\u001b[39m\n\u001b[1;32m    141\u001b[0m             \u001b[38;5;124mf\u001b[39m\u001b[38;5;124m\"\u001b[39m\u001b[38;5;124mfile, URL of style file, or library style name (library \u001b[39m\u001b[38;5;124m\"\u001b[39m\n\u001b[1;32m    142\u001b[0m             \u001b[38;5;124mf\u001b[39m\u001b[38;5;124m\"\u001b[39m\u001b[38;5;124mstyles are listed in `style.available`)\u001b[39m\u001b[38;5;124m\"\u001b[39m) \u001b[38;5;28;01mfrom\u001b[39;00m \u001b[38;5;21;01merr\u001b[39;00m\n",
      "File \u001b[0;32m~/miniforge3/envs/weis-env/lib/python3.11/site-packages/matplotlib/__init__.py:866\u001b[0m, in \u001b[0;36m_rc_params_in_file\u001b[0;34m(fname, transform, fail_on_error)\u001b[0m\n\u001b[1;32m    864\u001b[0m \u001b[38;5;28;01mimport\u001b[39;00m \u001b[38;5;21;01mmatplotlib\u001b[39;00m \u001b[38;5;28;01mas\u001b[39;00m \u001b[38;5;21;01mmpl\u001b[39;00m\n\u001b[1;32m    865\u001b[0m rc_temp \u001b[38;5;241m=\u001b[39m {}\n\u001b[0;32m--> 866\u001b[0m \u001b[43m\u001b[49m\u001b[38;5;28;43;01mwith\u001b[39;49;00m\u001b[43m \u001b[49m\u001b[43m_open_file_or_url\u001b[49m\u001b[43m(\u001b[49m\u001b[43mfname\u001b[49m\u001b[43m)\u001b[49m\u001b[43m \u001b[49m\u001b[38;5;28;43;01mas\u001b[39;49;00m\u001b[43m \u001b[49m\u001b[43mfd\u001b[49m\u001b[43m:\u001b[49m\n\u001b[1;32m    867\u001b[0m \u001b[43m    \u001b[49m\u001b[38;5;28;43;01mtry\u001b[39;49;00m\u001b[43m:\u001b[49m\n\u001b[1;32m    868\u001b[0m \u001b[43m        \u001b[49m\u001b[38;5;28;43;01mfor\u001b[39;49;00m\u001b[43m \u001b[49m\u001b[43mline_no\u001b[49m\u001b[43m,\u001b[49m\u001b[43m \u001b[49m\u001b[43mline\u001b[49m\u001b[43m \u001b[49m\u001b[38;5;129;43;01min\u001b[39;49;00m\u001b[43m \u001b[49m\u001b[38;5;28;43menumerate\u001b[39;49m\u001b[43m(\u001b[49m\u001b[43mfd\u001b[49m\u001b[43m,\u001b[49m\u001b[43m \u001b[49m\u001b[38;5;241;43m1\u001b[39;49m\u001b[43m)\u001b[49m\u001b[43m:\u001b[49m\n",
      "File \u001b[0;32m~/miniforge3/envs/weis-env/lib/python3.11/contextlib.py:137\u001b[0m, in \u001b[0;36m_GeneratorContextManager.__enter__\u001b[0;34m(self)\u001b[0m\n\u001b[1;32m    135\u001b[0m \u001b[38;5;28;01mdel\u001b[39;00m \u001b[38;5;28mself\u001b[39m\u001b[38;5;241m.\u001b[39margs, \u001b[38;5;28mself\u001b[39m\u001b[38;5;241m.\u001b[39mkwds, \u001b[38;5;28mself\u001b[39m\u001b[38;5;241m.\u001b[39mfunc\n\u001b[1;32m    136\u001b[0m \u001b[38;5;28;01mtry\u001b[39;00m:\n\u001b[0;32m--> 137\u001b[0m     \u001b[38;5;28;01mreturn\u001b[39;00m \u001b[38;5;28mnext\u001b[39m(\u001b[38;5;28mself\u001b[39m\u001b[38;5;241m.\u001b[39mgen)\n\u001b[1;32m    138\u001b[0m \u001b[38;5;28;01mexcept\u001b[39;00m \u001b[38;5;167;01mStopIteration\u001b[39;00m:\n\u001b[1;32m    139\u001b[0m     \u001b[38;5;28;01mraise\u001b[39;00m \u001b[38;5;167;01mRuntimeError\u001b[39;00m(\u001b[38;5;124m\"\u001b[39m\u001b[38;5;124mgenerator didn\u001b[39m\u001b[38;5;124m'\u001b[39m\u001b[38;5;124mt yield\u001b[39m\u001b[38;5;124m\"\u001b[39m) \u001b[38;5;28;01mfrom\u001b[39;00m \u001b[38;5;28;01mNone\u001b[39;00m\n",
      "File \u001b[0;32m~/miniforge3/envs/weis-env/lib/python3.11/site-packages/matplotlib/__init__.py:834\u001b[0m, in \u001b[0;36m_open_file_or_url\u001b[0;34m(fname)\u001b[0m\n\u001b[1;32m    831\u001b[0m \u001b[38;5;28;01mif\u001b[39;00m (\u001b[38;5;28misinstance\u001b[39m(fname, \u001b[38;5;28mstr\u001b[39m)\n\u001b[1;32m    832\u001b[0m         \u001b[38;5;129;01mand\u001b[39;00m fname\u001b[38;5;241m.\u001b[39mstartswith((\u001b[38;5;124m'\u001b[39m\u001b[38;5;124mhttp://\u001b[39m\u001b[38;5;124m'\u001b[39m, \u001b[38;5;124m'\u001b[39m\u001b[38;5;124mhttps://\u001b[39m\u001b[38;5;124m'\u001b[39m, \u001b[38;5;124m'\u001b[39m\u001b[38;5;124mftp://\u001b[39m\u001b[38;5;124m'\u001b[39m, \u001b[38;5;124m'\u001b[39m\u001b[38;5;124mfile:\u001b[39m\u001b[38;5;124m'\u001b[39m))):\n\u001b[1;32m    833\u001b[0m     \u001b[38;5;28;01mimport\u001b[39;00m \u001b[38;5;21;01murllib\u001b[39;00m\u001b[38;5;21;01m.\u001b[39;00m\u001b[38;5;21;01mrequest\u001b[39;00m\n\u001b[0;32m--> 834\u001b[0m     ssl_ctx \u001b[38;5;241m=\u001b[39m \u001b[43m_get_ssl_context\u001b[49m\u001b[43m(\u001b[49m\u001b[43m)\u001b[49m\n\u001b[1;32m    835\u001b[0m     \u001b[38;5;28;01mif\u001b[39;00m ssl_ctx \u001b[38;5;129;01mis\u001b[39;00m \u001b[38;5;28;01mNone\u001b[39;00m:\n\u001b[1;32m    836\u001b[0m         _log\u001b[38;5;241m.\u001b[39mdebug(\n\u001b[1;32m    837\u001b[0m             \u001b[38;5;124m\"\u001b[39m\u001b[38;5;124mCould not get certifi ssl context, https may not work.\u001b[39m\u001b[38;5;124m\"\u001b[39m\n\u001b[1;32m    838\u001b[0m         )\n",
      "File \u001b[0;32m~/miniforge3/envs/weis-env/lib/python3.11/site-packages/matplotlib/__init__.py:825\u001b[0m, in \u001b[0;36m_get_ssl_context\u001b[0;34m()\u001b[0m\n\u001b[1;32m    823\u001b[0m     _log\u001b[38;5;241m.\u001b[39mdebug(\u001b[38;5;124m\"\u001b[39m\u001b[38;5;124mCould not import certifi.\u001b[39m\u001b[38;5;124m\"\u001b[39m)\n\u001b[1;32m    824\u001b[0m     \u001b[38;5;28;01mreturn\u001b[39;00m \u001b[38;5;28;01mNone\u001b[39;00m\n\u001b[0;32m--> 825\u001b[0m \u001b[38;5;28;01mimport\u001b[39;00m \u001b[38;5;21;01mssl\u001b[39;00m\n\u001b[1;32m    826\u001b[0m \u001b[38;5;28;01mreturn\u001b[39;00m ssl\u001b[38;5;241m.\u001b[39mcreate_default_context(cafile\u001b[38;5;241m=\u001b[39mcertifi\u001b[38;5;241m.\u001b[39mwhere())\n",
      "File \u001b[0;32m~/miniforge3/envs/weis-env/lib/python3.11/ssl.py:100\u001b[0m\n\u001b[1;32m     97\u001b[0m \u001b[38;5;28;01mfrom\u001b[39;00m \u001b[38;5;21;01menum\u001b[39;00m \u001b[38;5;28;01mimport\u001b[39;00m Enum \u001b[38;5;28;01mas\u001b[39;00m _Enum, IntEnum \u001b[38;5;28;01mas\u001b[39;00m _IntEnum, IntFlag \u001b[38;5;28;01mas\u001b[39;00m _IntFlag\n\u001b[1;32m     98\u001b[0m \u001b[38;5;28;01mfrom\u001b[39;00m \u001b[38;5;21;01menum\u001b[39;00m \u001b[38;5;28;01mimport\u001b[39;00m _simple_enum\n\u001b[0;32m--> 100\u001b[0m \u001b[38;5;28;01mimport\u001b[39;00m \u001b[38;5;21;01m_ssl\u001b[39;00m             \u001b[38;5;66;03m# if we can't import it, let the error propagate\u001b[39;00m\n\u001b[1;32m    102\u001b[0m \u001b[38;5;28;01mfrom\u001b[39;00m \u001b[38;5;21;01m_ssl\u001b[39;00m \u001b[38;5;28;01mimport\u001b[39;00m OPENSSL_VERSION_NUMBER, OPENSSL_VERSION_INFO, OPENSSL_VERSION\n\u001b[1;32m    103\u001b[0m \u001b[38;5;28;01mfrom\u001b[39;00m \u001b[38;5;21;01m_ssl\u001b[39;00m \u001b[38;5;28;01mimport\u001b[39;00m _SSLContext, MemoryBIO, SSLSession\n",
      "\u001b[0;31mImportError\u001b[0m: dlopen(/Users/cfrontin/miniforge3/envs/weis-env/lib/python3.11/lib-dynload/_ssl.cpython-311-darwin.so, 0x0002): Library not loaded: @rpath/libssl.3.dylib\n  Referenced from: <BCAFB915-7225-32ED-8C68-D3670163E858> /Users/cfrontin/miniforge3/envs/weis-env/lib/python3.11/lib-dynload/_ssl.cpython-311-darwin.so\n  Reason: tried: '/Users/cfrontin/miniforge3/envs/weis-env/lib/python3.11/lib-dynload/../../libssl.3.dylib' (mach-o file, but is an incompatible architecture (have 'arm64', need 'x86_64')), '/Users/cfrontin/miniforge3/envs/weis-env/lib/python3.11/lib-dynload/../../libssl.3.dylib' (mach-o file, but is an incompatible architecture (have 'arm64', need 'x86_64')), '/Users/cfrontin/miniforge3/envs/weis-env/bin/../lib/libssl.3.dylib' (mach-o file, but is an incompatible architecture (have 'arm64', need 'x86_64')), '/Users/cfrontin/miniforge3/envs/weis-env/bin/../lib/libssl.3.dylib' (mach-o file, but is an incompatible architecture (have 'arm64', need 'x86_64')), '/usr/local/lib/libssl.3.dylib' (no such file), '/usr/lib/libssl.3.dylib' (no such file, not in dyld cache)"
     ]
    }
   ],
   "source": [
    "import os\n",
    "\n",
    "import numpy as np\n",
    "import pandas as pd\n",
    "import seaborn as sns\n",
    "import matplotlib.pyplot as plt\n",
    "\n",
    "plt.style.use([\n",
    "  \"dark_background\",\n",
    "  # \"https://raw.githubusercontent.com/cfrontin/tools_cvf/main/tools_cvf/stylesheet_cvf.mplstyle\",\n",
    "  # \"https://raw.githubusercontent.com/cfrontin/tools_cvf/main/tools_cvf/stylesheet_nrel.mplstyle\",\n",
    "])\n",
    "\n",
    "import weis.visualization.utils as viz_toolbox\n",
    "import weis.visualization.opt_plotting as opt_plotting"
   ]
  },
  {
   "cell_type": "markdown",
   "metadata": {},
   "source": [
    "# Example 17: IEA22 Optimization\n",
    "\n",
    "In this example, we can optimize a semisubmersible floating offshore wind turbine (FOWT) platform based around the IEA 22MW reference turbine.\n",
    "We will consider optimizations using the following optimizers:\n",
    "- COBYLA optimizer (derivative-free)\n",
    "- SLSQP optimizer (gradient-based), and\n",
    "- differential evolution (DE) (an evolutionary algorithm)\n",
    "\n",
    "## Metadata loading\n",
    "\n",
    "In the following code sections we will set up the loading of the metadata files."
   ]
  },
  {
   "cell_type": "code",
   "execution_count": null,
   "metadata": {},
   "outputs": [],
   "source": [
    "# standard locations of output dirs based on template for ex. 17\n",
    "dir_template = \"17_IEA22_OptStudies/raft_%s\"\n",
    "dir_COBYLA = dir_template % \"COBYLA\"\n",
    "dir_SLSQP = dir_template % \"SLSQP\"\n",
    "dir_DE = dir_template % \"DE\"\n",
    "\n",
    "# OM optimization log database files\n",
    "fn_log_COBYLA = os.path.join(dir_COBYLA, \"log_opt.sql\")\n",
    "fn_log_SLSQP = os.path.join(dir_SLSQP, \"log_opt.sql\")\n",
    "fn_log_DE = os.path.join(dir_DE, \"log_opt.sql_%s\")\n",
    "\n",
    "# WEIS stashes design/constraint/objective var files located here\n",
    "fn_vars_COBYLA = os.path.join(dir_COBYLA, \"problem_vars.json\")\n",
    "fn_vars_SLSQP = os.path.join(dir_SLSQP, \"problem_vars.json\")\n",
    "fn_vars_DE = os.path.join(dir_DE, \"problem_vars.json\")"
   ]
  },
  {
   "cell_type": "code",
   "execution_count": null,
   "metadata": {},
   "outputs": [],
   "source": [
    "# ... load the variables files\n",
    "do_COBYLA = True\n",
    "do_SLSQP = True\n",
    "do_DE = True\n",
    "unification_list = []\n",
    "\n",
    "if do_COBYLA:\n",
    "  vars_COBYLA = viz_toolbox.load_vars_file(fn_vars_COBYLA)\n",
    "  unification_list.append(vars_COBYLA)\n",
    "if do_SLSQP:\n",
    "  vars_SLSQP = viz_toolbox.load_vars_file(fn_vars_SLSQP)\n",
    "  unification_list.append(vars_SLSQP)\n",
    "if do_DE:\n",
    "  vars_DE = viz_toolbox.load_vars_file(fn_vars_DE)\n",
    "  unification_list.append(vars_DE)\n",
    "# this call verifies, (optionally) unifies, and corrects the var files\n",
    "vars_unified = viz_toolbox.verify_vars(*unification_list)"
   ]
  },
  {
   "cell_type": "markdown",
   "metadata": {},
   "source": [
    "## Data loading\n",
    "\n",
    "With the metadata loaded, we can now load the primary data from the various methods.\n",
    "The COBYLA and SLSQP data is loaded first, with a simple serial loader, which are used because these methods either run in a serial fashion (with F.D. derivatives calculated in parallel in the case of SLSQP).\n",
    "The DE data, since it is run in parallel, is loaded using a parallel data loader.\n",
    "\n",
    "After the data is loaded, we show any differences in the keys found between the COBYLA/SLSQP methods and pretty-print the variables with icons representing whether they are objective functions (`**`), design variables (`--`), constraints (`<>`), or other (`??`)."
   ]
  },
  {
   "cell_type": "code",
   "execution_count": null,
   "metadata": {},
   "outputs": [],
   "source": [
    "# load the data from the OM DB\n",
    "if do_COBYLA:\n",
    "  dataOM_COBYLA = viz_toolbox.load_OMsql(fn_log_COBYLA, parse_multi=True)\n",
    "if do_SLSQP:\n",
    "  dataOM_SLSQP = viz_toolbox.load_OMsql(fn_log_SLSQP, parse_multi=True)\n",
    "if do_DE:\n",
    "  dataOMmulti_DE = viz_toolbox.load_OMsql_multi(\n",
    "    fn_log_DE % \"*\",\n",
    "    meta_in=fn_log_DE % \"meta\",\n",
    "  )\n",
    "  dataOMbest_DE = viz_toolbox.consolidate_multi(\n",
    "    dataOMmulti_DE,\n",
    "    vars_DE, # vars_SLSQP if do_SLSQP else vars_COBYLA,\n",
    "  )\n",
    "\n",
    "# describe the keys that have been found\n",
    "print()\n",
    "# should match the next section's configuration\n",
    "assert do_COBYLA and do_SLSQP and do_DE\n",
    "keys_all, _, _ = viz_toolbox.compare_om_data(\n",
    "  dataOM_COBYLA,\n",
    "  dataOM_SLSQP,\n",
    "  \"COBYLA\", \"SLSQP\",\n",
    "  verbose=True,\n",
    ")\n",
    "print()\n",
    "\n",
    "# grab the keys that we have in the unified vars\n",
    "keys_obj = [v[\"name\"] for k, v in vars_unified[\"objectives\"].items()]\n",
    "keys_DV = [v[\"name\"] for k, v in vars_unified[\"design_vars\"].items()]\n",
    "keys_constr = {v[\"name\"]: [v[\"lower\"], v[\"upper\"]] for k, v in vars_unified[\"constraints\"].items()}\n",
    "\n",
    "# pretty print the case we're looking at\n",
    "viz_toolbox.prettyprint_variables(keys_all, keys_obj, keys_DV, keys_constr)"
   ]
  },
  {
   "cell_type": "markdown",
   "metadata": {},
   "source": [
    "## Feasibility pre-processing\n",
    "\n",
    "Now, we will can grab and evaluate the feasibility of the DE iterations across all the ranks."
   ]
  },
  {
   "cell_type": "code",
   "execution_count": null,
   "metadata": {},
   "outputs": [],
   "source": [
    "# extract and install feasibility evaluations\n",
    "feas, vfeas = viz_toolbox.get_feasible_iterations(\n",
    "  dataOMmulti_DE, vars_unified,\n",
    "  feas_tol=1e-5,\n",
    ")\n",
    "dataOMmulti_DE[\"feas_total\"] = feas\n",
    "for k, v in vfeas.items():\n",
    "  dataOMmulti_DE[f\"feas_{k}\"] = v"
   ]
  },
  {
   "cell_type": "markdown",
   "metadata": {},
   "source": [
    "## Plotting\n",
    "\n",
    "### Differential Evolution results\n",
    "\n",
    "First, we can examine the results of the DE optimization.\n",
    "At each of 100 iterations, there are 104 processors working the problem.\n",
    "The figure shows the progression of the optimization with feasible simulations in green, infeasible in red, the iteration-wise best result in cyan, and the value of the discovered minimizer in yellow dashes.\n",
    "\n",
    "In the following figure, we show the iteration-over-iteration convergence of the iteration-wise best feasible estimate toward the discovered minimizer, which demonstrates regular convergence toward this value."
   ]
  },
  {
   "cell_type": "code",
   "execution_count": null,
   "metadata": {},
   "outputs": [],
   "source": [
    "# plot DE results\n",
    "\n",
    "fig, ax = plt.subplots()\n",
    "ax.scatter([], [], s=3.0, c=\"g\", label=\"feasible sample\")\n",
    "ax.scatter([], [], s=3.0, c=\"r\", label=\"infeasible sample\")\n",
    "ax.scatter(\n",
    "  dataOMmulti_DE[\"iter\"],\n",
    "  dataOMmulti_DE[\"floatingse.system_structural_mass\"],\n",
    "  s=3.0,\n",
    "  c=[\"g\" if d else \"r\" for d in dataOMmulti_DE[\"feas_total\"]],\n",
    "  alpha=0.5,\n",
    "  label=\"_simulation iterations_\",\n",
    ")\n",
    "ax.plot(\n",
    "  range(np.max(dataOMmulti_DE[\"iter\"])),\n",
    "  [\n",
    "    np.min(np.array(dataOMmulti_DE[\"floatingse.system_structural_mass\"])[\n",
    "      dataOMmulti_DE[\"feas_total\"].flatten() & (np.array(dataOMmulti_DE[\"iter\"]) == iter).flatten()\n",
    "    ]) for iter in range(np.max(dataOMmulti_DE[\"iter\"]))\n",
    "  ],\n",
    "  c=\"c\",\n",
    "  zorder=1000,\n",
    "  label=\"best feasible estimate\",\n",
    ")\n",
    "ax.plot(\n",
    "  range(np.max(dataOMmulti_DE[\"iter\"])),\n",
    "  np.min(\n",
    "    np.array(dataOMmulti_DE[\"floatingse.system_structural_mass\"])[dataOMmulti_DE[\"feas_total\"].flatten()]\n",
    "  )*np.ones_like(range(np.max(dataOMmulti_DE[\"iter\"]))),\n",
    "  \"--y\",\n",
    "  zorder=500,\n",
    "  label=\"discovered minimizer\",\n",
    ")\n",
    "ax.grid(which=\"major\", alpha=0.25)\n",
    "ax.set_xlabel(\"iteration number\")\n",
    "ax.set_ylabel(\"system structural mass (kg)\")\n",
    "ax.legend()"
   ]
  },
  {
   "cell_type": "code",
   "execution_count": null,
   "metadata": {},
   "outputs": [],
   "source": [
    "# plot DE optimization convergence results\n",
    "\n",
    "fig, ax = plt.subplots()\n",
    "ax.semilogy(\n",
    "  range(np.max(dataOMmulti_DE[\"iter\"])),\n",
    "  np.abs([np.min(np.array(dataOMmulti_DE[\"floatingse.system_structural_mass\"])[\n",
    "    dataOMmulti_DE[\"feas_total\"].flatten() & (np.array(dataOMmulti_DE[\"iter\"]) == iter).flatten()\n",
    "  ]) for iter in range(np.max(dataOMmulti_DE[\"iter\"])) ]\n",
    "  - np.min(\n",
    "    np.array(\n",
    "      dataOMmulti_DE[\"floatingse.system_structural_mass\"]\n",
    "    )[dataOMmulti_DE[\"feas_total\"].flatten()]\n",
    "  )*np.ones_like(range(np.max(dataOMmulti_DE[\"iter\"]))))/np.min(\n",
    "    np.array(\n",
    "      dataOMmulti_DE[\"floatingse.system_structural_mass\"]\n",
    "    )[dataOMmulti_DE[\"feas_total\"].flatten()]\n",
    "  ),\n",
    "  c=\"c\",\n",
    "  label=\"error in iteration-wise best feasible estimate\",\n",
    ")\n",
    "ax.grid(which=\"major\", alpha=0.25)\n",
    "ax.set_xlabel(\"iteration number\")\n",
    "ax.set_ylabel(\n",
    "  \"apparent percent absolute error in \"\n",
    "  + \"\\nsystem structural mass estimate (\\%)\"\n",
    ")\n",
    "pass"
   ]
  },
  {
   "cell_type": "markdown",
   "metadata": {},
   "source": [
    "### Combined results\n",
    "\n",
    "With the DE results in tow, we can now evaluate them with respect to the other solutions.\n",
    "In the following plots, we will evaluate the optimization trajectories of the three optimizers.\n",
    "In the first plot, the objective function for optimization is shown, and in the second, the design variables are shown.\n",
    "Each of the markers is either filled for a feasible sample or unfilled for infeasible sample at a given iteration.\n",
    "DE results are the best-available feasible instance at a given iteration, as shown above."
   ]
  },
  {
   "cell_type": "code",
   "execution_count": null,
   "metadata": {},
   "outputs": [],
   "source": [
    "case_data = {}\n",
    "case_data[\"DE\"] = (dataOMbest_DE, vars_DE)\n",
    "case_data[\"SLSQP\"] = (dataOM_SLSQP, vars_SLSQP)\n",
    "case_data[\"COBYLA\"] = (dataOM_COBYLA, vars_COBYLA)"
   ]
  },
  {
   "cell_type": "code",
   "execution_count": null,
   "metadata": {},
   "outputs": [],
   "source": [
    "\n",
    "opt_plotting.plot_conv(\n",
    "  keys_obj,\n",
    "  case_data,\n",
    "  feas_tol=1e-5,\n",
    "  alpha=0.5,\n",
    ") ;"
   ]
  },
  {
   "cell_type": "code",
   "execution_count": null,
   "metadata": {},
   "outputs": [],
   "source": [
    "opt_plotting.plot_conv(\n",
    "  keys_DV,\n",
    "  case_data,\n",
    "  feas_tol=1e-5,\n",
    "  alpha=0.5,\n",
    ") ;"
   ]
  },
  {
   "cell_type": "markdown",
   "metadata": {},
   "source": [
    "In the final subplot, below, we show the constraints active on the problem, which are numerous.\n",
    "In this plot, filled (unfilled) markers represent feasibility (infeasibility) according to the constraint of interest on the displayed iteration."
   ]
  },
  {
   "cell_type": "code",
   "execution_count": null,
   "metadata": {},
   "outputs": [],
   "source": [
    "opt_plotting.plot_conv(\n",
    "  keys_constr,\n",
    "  case_data,\n",
    "  feas_tol=1e-5,\n",
    "  alpha=0.5,\n",
    "  use_casewise_feasibility=True,\n",
    ") ;"
   ]
  },
  {
   "cell_type": "code",
   "execution_count": null,
   "metadata": {},
   "outputs": [],
   "source": []
  }
 ],
 "metadata": {
  "kernelspec": {
   "display_name": "Python 3 (ipykernel)",
   "language": "python",
   "name": "python3"
  },
  "language_info": {
   "codemirror_mode": {
    "name": "ipython",
    "version": 3
   },
   "file_extension": ".py",
   "mimetype": "text/x-python",
   "name": "python",
   "nbconvert_exporter": "python",
   "pygments_lexer": "ipython3",
   "version": "3.11.8"
  }
 },
 "nbformat": 4,
 "nbformat_minor": 4
}
